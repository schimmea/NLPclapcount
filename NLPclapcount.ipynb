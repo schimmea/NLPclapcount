{
 "cells": [
  {
   "cell_type": "markdown",
   "metadata": {},
   "source": [
    "# Advanced Data Analytics for Management Support - Final Assignment (Summer 2020)"
   ]
  },
  {
   "cell_type": "markdown",
   "metadata": {},
   "source": [
    "## Table of Contents\n",
    "\n",
    "    1. Introduction\n",
    "    2. Data Loading and Cleaning\n",
    "    3. Feature Recovery\n",
    "    4. Feature Analysis and Engineering\n",
    "        4.1 Target Distribution\n",
    "        4.2 Reading Ease\n",
    "        4.3 Date features\n",
    "        4.4 Title Length\n",
    "        4.5 Author\n",
    "        4.6 Most Used Words\n",
    "    5. Model Selection\n",
    "        5.1 Data Preparation\n",
    "        5.2 Benchmark Models\n",
    "            5.2.1 Linear Regression\n",
    "            5.2.2 Random Forest\n",
    "            5.2.3 XGBoost\n",
    "            5.2.4 Basic GRU\n",
    "        5.3 RNN Architecture\n",
    "            5.3.1 LSTM\n",
    "            5.3.2 Bidirectional LSTM\n",
    "            5.3.3 Deep LSTM\n",
    "        5.4 Full Model Architecture\n",
    "    6. Application to Test Set\n",
    "    7. Conclusion\n"
   ]
  },
  {
   "cell_type": "markdown",
   "metadata": {},
   "source": [
    "## 1. Introduction\n",
    "\n",
    "The task of this assignment is to predict the total number of claps a medium.com article will receive based on different webscraped features like the text, number of responses, and date of creation. The main focus hereby lies on using NLP techniques to harness any predictive power that may lie within the text.\n",
    "\n",
    "In the following, we analyze the train and test data, recover and alter some of the features, as well as create new ones. Afterwards, different modeling approaches are considered and an NLP pipeline is chosen. Finally, the model is applied to our test data."
   ]
  },
  {
   "cell_type": "markdown",
   "metadata": {},
   "source": [
    "**Note on reproducibility**\n",
    "\n",
    "Since the models are all trained using a GPU, and CPU training was infeasible time-wise, it is unfortunately not possible to ensure exact reproducibility in these cases. Everywhere reproducible randomness was possible, it was ensured."
   ]
  },
  {
   "cell_type": "code",
   "execution_count": 56,
   "metadata": {},
   "outputs": [],
   "source": [
    "import pickle\n",
    "import matplotlib.pyplot as plt\n",
    "%matplotlib inline\n",
    "import pandas as pd\n",
    "import numpy as np\n",
    "import re\n",
    "import datetime\n",
    "import time\n",
    "import textstat\n",
    "from bs4 import BeautifulSoup\n",
    "from collections import Counter\n",
    "from nltk.tokenize.treebank import TreebankWordDetokenizer\n",
    "from nltk.tokenize import word_tokenize\n",
    "from nltk.tokenize import sent_tokenize\n",
    "from nltk.corpus import wordnet\n",
    "from nltk.corpus import stopwords\n",
    "from nltk.stem import WordNetLemmatizer\n",
    "from sklearn.metrics import mean_squared_error\n",
    "from sklearn.metrics import mean_absolute_error\n",
    "from sklearn.model_selection import KFold\n",
    "from sklearn.model_selection import train_test_split\n",
    "from gensim.models import KeyedVectors\n",
    "from gensim.models.keyedvectors import Word2VecKeyedVectors\n",
    "from keras.preprocessing.text import Tokenizer\n",
    "from keras.preprocessing.sequence import pad_sequences\n",
    "from keras.models import Sequential, Model\n",
    "from keras.layers import Input, concatenate, Dense, Embedding, LSTM, GRU, Bidirectional, BatchNormalization, Dropout\n",
    "from keras.layers.embeddings import Embedding\n",
    "from keras.initializers import Constant\n",
    "from tensorflow.keras import activations, losses\n",
    "from keras.callbacks import EarlyStopping\n",
    "from sklearn.linear_model import LinearRegression\n",
    "from sklearn.ensemble import RandomForestRegressor\n",
    "import xgboost as xgb\n",
    "\n",
    "from utils import get_embedding_matrix"
   ]
  },
  {
   "cell_type": "markdown",
   "metadata": {},
   "source": [
    "---\n",
    "\n",
    "## 2. Data Loading and Cleaning  <a name=\"introduction\"></a>"
   ]
  },
  {
   "cell_type": "code",
   "execution_count": 419,
   "metadata": {},
   "outputs": [],
   "source": [
    "train = pd.read_csv(\"Data/train.csv\", sep=\",\", encoding=\"utf-8\")\n",
    "test = pd.read_csv(\"Data/test.csv\", sep=\",\", encoding=\"utf-8\", index_col=\"index\")"
   ]
  },
  {
   "cell_type": "markdown",
   "metadata": {},
   "source": [
    "Inspecting the columns of both the train and the test set, we notice a large discrepancy between them. "
   ]
  },
  {
   "cell_type": "code",
   "execution_count": 699,
   "metadata": {},
   "outputs": [
    {
     "data": {
      "text/plain": [
       "Index(['audioVersionDurationSec', 'codeBlock', 'codeBlockCount',\n",
       "       'collectionId', 'createdDate', 'createdDatetime', 'firstPublishedDate',\n",
       "       'firstPublishedDatetime', 'imageCount', 'isSubscriptionLocked',\n",
       "       'language', 'latestPublishedDate', 'latestPublishedDatetime',\n",
       "       'linksCount', 'postId', 'readingTime', 'recommends',\n",
       "       'responsesCreatedCount', 'socialRecommendsCount', 'subTitle',\n",
       "       'tagsCount', 'text', 'title', 'totalClapCount', 'uniqueSlug',\n",
       "       'updatedDate', 'updatedDatetime', 'url', 'vote', 'wordCount',\n",
       "       'publicationdescription', 'publicationdomain',\n",
       "       'publicationfacebookPageName', 'publicationfollowerCount',\n",
       "       'publicationname', 'publicationpublicEmail', 'publicationslug',\n",
       "       'publicationtags', 'publicationtwitterUsername', 'tag_name', 'slug',\n",
       "       'name', 'postCount', 'author', 'bio', 'userId', 'userName',\n",
       "       'usersFollowedByCount', 'usersFollowedCount', 'scrappedDate'],\n",
       "      dtype='object')"
      ]
     },
     "execution_count": 699,
     "metadata": {},
     "output_type": "execute_result"
    }
   ],
   "source": [
    "train.columns"
   ]
  },
  {
   "cell_type": "code",
   "execution_count": 697,
   "metadata": {},
   "outputs": [
    {
     "data": {
      "text/plain": [
       "Index(['Unnamed: 0', 'Author', 'PublicationDetails', 'Responses', 'Header',\n",
       "       'Text', 'Length'],\n",
       "      dtype='object')"
      ]
     },
     "execution_count": 697,
     "metadata": {},
     "output_type": "execute_result"
    }
   ],
   "source": [
    "test.columns"
   ]
  },
  {
   "cell_type": "markdown",
   "metadata": {},
   "source": [
    "First, we rename some of the columns which obviously belong together but are named differently. Also, we can drop the \"Unnamed: 0\" column of the test set."
   ]
  },
  {
   "cell_type": "code",
   "execution_count": 420,
   "metadata": {},
   "outputs": [],
   "source": [
    "test.rename(columns={'Author': 'author', 'Header': 'title', 'Text': 'text'}, inplace=True)\n",
    "train.rename(columns={'responsesCreatedCount': 'Responses'}, inplace=True)\n",
    "test.drop(columns=\"Unnamed: 0\", inplace=True)"
   ]
  },
  {
   "cell_type": "markdown",
   "metadata": {},
   "source": [
    "Looking at the \"language\" feature of the train set, we observe that about 7.8% of our data consist of non-english articles, which don't hold much value for us. Since our focus in this work lies on Natural Language Processing, we will limit ourselves to the English language only. Everything else would overproportionally increase the required effort relative to the number of dropped articles."
   ]
  },
  {
   "cell_type": "code",
   "execution_count": 702,
   "metadata": {},
   "outputs": [
    {
     "data": {
      "text/plain": [
       "0.07841131423543425"
      ]
     },
     "execution_count": 702,
     "metadata": {},
     "output_type": "execute_result"
    }
   ],
   "source": [
    "len(train[train['language'] != \"en\"]) / len(train)"
   ]
  },
  {
   "cell_type": "markdown",
   "metadata": {},
   "source": [
    "We therefore remove non-english texts and drop the column."
   ]
  },
  {
   "cell_type": "code",
   "execution_count": 421,
   "metadata": {},
   "outputs": [],
   "source": [
    "# Remove non-english posts:\n",
    "train = train[train['language'] == \"en\"]\n",
    "train.drop(columns=\"language\", inplace=True)"
   ]
  },
  {
   "cell_type": "markdown",
   "metadata": {},
   "source": [
    "Going further, we notice that a large share of rows have duplicate post IDs, which is likely a result of the webscraping. We investigate the reason for this by example of the first post in the data:"
   ]
  },
  {
   "cell_type": "code",
   "execution_count": 705,
   "metadata": {
    "scrolled": true
   },
   "outputs": [
    {
     "data": {
      "text/html": [
       "<div>\n",
       "<style scoped>\n",
       "    .dataframe tbody tr th:only-of-type {\n",
       "        vertical-align: middle;\n",
       "    }\n",
       "\n",
       "    .dataframe tbody tr th {\n",
       "        vertical-align: top;\n",
       "    }\n",
       "\n",
       "    .dataframe thead th {\n",
       "        text-align: right;\n",
       "    }\n",
       "</style>\n",
       "<table border=\"1\" class=\"dataframe\">\n",
       "  <thead>\n",
       "    <tr style=\"text-align: right;\">\n",
       "      <th></th>\n",
       "      <th>audioVersionDurationSec</th>\n",
       "      <th>codeBlock</th>\n",
       "      <th>codeBlockCount</th>\n",
       "      <th>collectionId</th>\n",
       "      <th>createdDate</th>\n",
       "      <th>createdDatetime</th>\n",
       "      <th>firstPublishedDate</th>\n",
       "      <th>firstPublishedDatetime</th>\n",
       "      <th>imageCount</th>\n",
       "      <th>isSubscriptionLocked</th>\n",
       "      <th>...</th>\n",
       "      <th>slug</th>\n",
       "      <th>name</th>\n",
       "      <th>postCount</th>\n",
       "      <th>author</th>\n",
       "      <th>bio</th>\n",
       "      <th>userId</th>\n",
       "      <th>userName</th>\n",
       "      <th>usersFollowedByCount</th>\n",
       "      <th>usersFollowedCount</th>\n",
       "      <th>scrappedDate</th>\n",
       "    </tr>\n",
       "  </thead>\n",
       "  <tbody>\n",
       "    <tr>\n",
       "      <th>0</th>\n",
       "      <td>0</td>\n",
       "      <td>NaN</td>\n",
       "      <td>0.0</td>\n",
       "      <td>638f418c8464</td>\n",
       "      <td>2018-09-18</td>\n",
       "      <td>2018-09-18 20:55:34</td>\n",
       "      <td>2018-09-18</td>\n",
       "      <td>2018-09-18 20:57:03</td>\n",
       "      <td>1</td>\n",
       "      <td>False</td>\n",
       "      <td>...</td>\n",
       "      <td>blockchain</td>\n",
       "      <td>Blockchain</td>\n",
       "      <td>265164.0</td>\n",
       "      <td>Anar Babaev</td>\n",
       "      <td>NaN</td>\n",
       "      <td>f1ad85af0169</td>\n",
       "      <td>babaevanar</td>\n",
       "      <td>450.0</td>\n",
       "      <td>404.0</td>\n",
       "      <td>20181104</td>\n",
       "    </tr>\n",
       "    <tr>\n",
       "      <th>1</th>\n",
       "      <td>0</td>\n",
       "      <td>NaN</td>\n",
       "      <td>0.0</td>\n",
       "      <td>638f418c8464</td>\n",
       "      <td>2018-09-18</td>\n",
       "      <td>2018-09-18 20:55:34</td>\n",
       "      <td>2018-09-18</td>\n",
       "      <td>2018-09-18 20:57:03</td>\n",
       "      <td>1</td>\n",
       "      <td>False</td>\n",
       "      <td>...</td>\n",
       "      <td>samsung</td>\n",
       "      <td>Samsung</td>\n",
       "      <td>5708.0</td>\n",
       "      <td>Anar Babaev</td>\n",
       "      <td>NaN</td>\n",
       "      <td>f1ad85af0169</td>\n",
       "      <td>babaevanar</td>\n",
       "      <td>450.0</td>\n",
       "      <td>404.0</td>\n",
       "      <td>20181104</td>\n",
       "    </tr>\n",
       "    <tr>\n",
       "      <th>2</th>\n",
       "      <td>0</td>\n",
       "      <td>NaN</td>\n",
       "      <td>0.0</td>\n",
       "      <td>638f418c8464</td>\n",
       "      <td>2018-09-18</td>\n",
       "      <td>2018-09-18 20:55:34</td>\n",
       "      <td>2018-09-18</td>\n",
       "      <td>2018-09-18 20:57:03</td>\n",
       "      <td>1</td>\n",
       "      <td>False</td>\n",
       "      <td>...</td>\n",
       "      <td>it</td>\n",
       "      <td>It</td>\n",
       "      <td>3720.0</td>\n",
       "      <td>Anar Babaev</td>\n",
       "      <td>NaN</td>\n",
       "      <td>f1ad85af0169</td>\n",
       "      <td>babaevanar</td>\n",
       "      <td>450.0</td>\n",
       "      <td>404.0</td>\n",
       "      <td>20181104</td>\n",
       "    </tr>\n",
       "  </tbody>\n",
       "</table>\n",
       "<p>3 rows × 49 columns</p>\n",
       "</div>"
      ],
      "text/plain": [
       "   audioVersionDurationSec codeBlock  codeBlockCount  collectionId  \\\n",
       "0                        0       NaN             0.0  638f418c8464   \n",
       "1                        0       NaN             0.0  638f418c8464   \n",
       "2                        0       NaN             0.0  638f418c8464   \n",
       "\n",
       "  createdDate      createdDatetime firstPublishedDate firstPublishedDatetime  \\\n",
       "0  2018-09-18  2018-09-18 20:55:34         2018-09-18    2018-09-18 20:57:03   \n",
       "1  2018-09-18  2018-09-18 20:55:34         2018-09-18    2018-09-18 20:57:03   \n",
       "2  2018-09-18  2018-09-18 20:55:34         2018-09-18    2018-09-18 20:57:03   \n",
       "\n",
       "   imageCount  isSubscriptionLocked  ...        slug        name  postCount  \\\n",
       "0           1                 False  ...  blockchain  Blockchain   265164.0   \n",
       "1           1                 False  ...     samsung     Samsung     5708.0   \n",
       "2           1                 False  ...          it          It     3720.0   \n",
       "\n",
       "        author  bio        userId    userName  usersFollowedByCount  \\\n",
       "0  Anar Babaev  NaN  f1ad85af0169  babaevanar                 450.0   \n",
       "1  Anar Babaev  NaN  f1ad85af0169  babaevanar                 450.0   \n",
       "2  Anar Babaev  NaN  f1ad85af0169  babaevanar                 450.0   \n",
       "\n",
       "  usersFollowedCount  scrappedDate  \n",
       "0              404.0      20181104  \n",
       "1              404.0      20181104  \n",
       "2              404.0      20181104  \n",
       "\n",
       "[3 rows x 49 columns]"
      ]
     },
     "execution_count": 705,
     "metadata": {},
     "output_type": "execute_result"
    }
   ],
   "source": [
    "train[train.postId == train.postId[0]]"
   ]
  },
  {
   "cell_type": "markdown",
   "metadata": {},
   "source": [
    "We filter the columns that are actually different (NaNs seem to behave weirdly here):"
   ]
  },
  {
   "cell_type": "code",
   "execution_count": 713,
   "metadata": {},
   "outputs": [
    {
     "data": {
      "text/html": [
       "<div>\n",
       "<style scoped>\n",
       "    .dataframe tbody tr th:only-of-type {\n",
       "        vertical-align: middle;\n",
       "    }\n",
       "\n",
       "    .dataframe tbody tr th {\n",
       "        vertical-align: top;\n",
       "    }\n",
       "\n",
       "    .dataframe thead th {\n",
       "        text-align: right;\n",
       "    }\n",
       "</style>\n",
       "<table border=\"1\" class=\"dataframe\">\n",
       "  <thead>\n",
       "    <tr style=\"text-align: right;\">\n",
       "      <th></th>\n",
       "      <th>codeBlock</th>\n",
       "      <th>publicationdomain</th>\n",
       "      <th>publicationfollowerCount</th>\n",
       "      <th>tag_name</th>\n",
       "      <th>slug</th>\n",
       "      <th>name</th>\n",
       "      <th>postCount</th>\n",
       "      <th>bio</th>\n",
       "    </tr>\n",
       "  </thead>\n",
       "  <tbody>\n",
       "    <tr>\n",
       "      <th>0</th>\n",
       "      <td>NaN</td>\n",
       "      <td>NaN</td>\n",
       "      <td>NaN</td>\n",
       "      <td>Blockchain</td>\n",
       "      <td>blockchain</td>\n",
       "      <td>Blockchain</td>\n",
       "      <td>265164.0</td>\n",
       "      <td>NaN</td>\n",
       "    </tr>\n",
       "    <tr>\n",
       "      <th>1</th>\n",
       "      <td>NaN</td>\n",
       "      <td>NaN</td>\n",
       "      <td>NaN</td>\n",
       "      <td>Samsung</td>\n",
       "      <td>samsung</td>\n",
       "      <td>Samsung</td>\n",
       "      <td>5708.0</td>\n",
       "      <td>NaN</td>\n",
       "    </tr>\n",
       "    <tr>\n",
       "      <th>2</th>\n",
       "      <td>NaN</td>\n",
       "      <td>NaN</td>\n",
       "      <td>NaN</td>\n",
       "      <td>It</td>\n",
       "      <td>it</td>\n",
       "      <td>It</td>\n",
       "      <td>3720.0</td>\n",
       "      <td>NaN</td>\n",
       "    </tr>\n",
       "  </tbody>\n",
       "</table>\n",
       "</div>"
      ],
      "text/plain": [
       "  codeBlock publicationdomain  publicationfollowerCount    tag_name  \\\n",
       "0       NaN               NaN                       NaN  Blockchain   \n",
       "1       NaN               NaN                       NaN     Samsung   \n",
       "2       NaN               NaN                       NaN          It   \n",
       "\n",
       "         slug        name  postCount  bio  \n",
       "0  blockchain  Blockchain   265164.0  NaN  \n",
       "1     samsung     Samsung     5708.0  NaN  \n",
       "2          it          It     3720.0  NaN  "
      ]
     },
     "execution_count": 713,
     "metadata": {},
     "output_type": "execute_result"
    }
   ],
   "source": [
    "train.loc[:2,train.loc[0,:] != train.loc[1,:]]"
   ]
  },
  {
   "cell_type": "markdown",
   "metadata": {},
   "source": [
    "The reason for the duplicate articles seems to be that there is one row per article and tag. Since there is no tag feature in the test data, the only reason for keeping the tags would be the creation of some kind of tag prediction model.\n",
    "\n",
    "The following code block shows that are around 17000 unique tags. The most used tags are all closely related to each other. We therefore deem a tag prediction model infeasible and proceed to drop post ID duplicates. "
   ]
  },
  {
   "cell_type": "code",
   "execution_count": 723,
   "metadata": {},
   "outputs": [
    {
     "data": {
      "text/plain": [
       "Artificial Intelligence     0.127395\n",
       "Machine Learning            0.106278\n",
       "Data Science                0.064773\n",
       "Deep Learning               0.024040\n",
       "Technology                  0.023920\n",
       "                              ...   \n",
       "Biracial                    0.000004\n",
       "Opencog                     0.000004\n",
       "Future Of Data Analytics    0.000004\n",
       "Jamb                        0.000004\n",
       "Myntra                      0.000004\n",
       "Name: tag_name, Length: 17049, dtype: float64"
      ]
     },
     "execution_count": 723,
     "metadata": {},
     "output_type": "execute_result"
    }
   ],
   "source": [
    "train.tag_name.value_counts().sort_values(ascending=False) / len(train)"
   ]
  },
  {
   "cell_type": "code",
   "execution_count": 423,
   "metadata": {},
   "outputs": [
    {
     "name": "stdout",
     "output_type": "stream",
     "text": [
      "This leaves uf with 66380 rows.\n"
     ]
    }
   ],
   "source": [
    "train.drop_duplicates(subset=[\"postId\"], inplace=True)\n",
    "print(f\"This leaves uf with {len(train)} rows.\")"
   ]
  },
  {
   "cell_type": "markdown",
   "metadata": {},
   "source": [
    "Since the webscraping seems to have been transformed to tabular form with slight redundancy, we check whether we actually eliminated all the text duplicates:"
   ]
  },
  {
   "cell_type": "code",
   "execution_count": 727,
   "metadata": {},
   "outputs": [
    {
     "name": "stdout",
     "output_type": "stream",
     "text": [
      "Duplicate texts found in rows [726, 24773, 222395]\n"
     ]
    }
   ],
   "source": [
    "for row in train.text:\n",
    "    occurences = train.index[np.where(train.text == row)[0]]\n",
    "    if len(occurences) > 1:\n",
    "        print(f\"Duplicate texts found in rows {occurences.tolist()}\")\n",
    "        break"
   ]
  },
  {
   "cell_type": "markdown",
   "metadata": {},
   "source": [
    "It appears we are still dealing with duplicate texts. We check the reason for this:"
   ]
  },
  {
   "cell_type": "code",
   "execution_count": 730,
   "metadata": {},
   "outputs": [
    {
     "data": {
      "text/html": [
       "<div>\n",
       "<style scoped>\n",
       "    .dataframe tbody tr th:only-of-type {\n",
       "        vertical-align: middle;\n",
       "    }\n",
       "\n",
       "    .dataframe tbody tr th {\n",
       "        vertical-align: top;\n",
       "    }\n",
       "\n",
       "    .dataframe thead th {\n",
       "        text-align: right;\n",
       "    }\n",
       "</style>\n",
       "<table border=\"1\" class=\"dataframe\">\n",
       "  <thead>\n",
       "    <tr style=\"text-align: right;\">\n",
       "      <th></th>\n",
       "      <th>codeBlock</th>\n",
       "      <th>collectionId</th>\n",
       "      <th>createdDate</th>\n",
       "      <th>createdDatetime</th>\n",
       "      <th>latestPublishedDate</th>\n",
       "      <th>latestPublishedDatetime</th>\n",
       "      <th>postId</th>\n",
       "      <th>tagsCount</th>\n",
       "      <th>totalClapCount</th>\n",
       "      <th>uniqueSlug</th>\n",
       "      <th>...</th>\n",
       "      <th>url</th>\n",
       "      <th>publicationdescription</th>\n",
       "      <th>publicationdomain</th>\n",
       "      <th>publicationfacebookPageName</th>\n",
       "      <th>publicationfollowerCount</th>\n",
       "      <th>publicationname</th>\n",
       "      <th>publicationpublicEmail</th>\n",
       "      <th>publicationslug</th>\n",
       "      <th>publicationtags</th>\n",
       "      <th>publicationtwitterUsername</th>\n",
       "    </tr>\n",
       "  </thead>\n",
       "  <tbody>\n",
       "    <tr>\n",
       "      <th>726</th>\n",
       "      <td>NaN</td>\n",
       "      <td>NaN</td>\n",
       "      <td>2017-09-21</td>\n",
       "      <td>2017-09-21 04:49:58</td>\n",
       "      <td>2017-09-21</td>\n",
       "      <td>2017-09-21 11:46:03</td>\n",
       "      <td>10c22f3e1231</td>\n",
       "      <td>1</td>\n",
       "      <td>4</td>\n",
       "      <td>whos-afraid-of-the-big-bad-ai-10c22f3e1231</td>\n",
       "      <td>...</td>\n",
       "      <td>https://medium.com/s/story/whos-afraid-of-the-...</td>\n",
       "      <td>NaN</td>\n",
       "      <td>NaN</td>\n",
       "      <td>NaN</td>\n",
       "      <td>NaN</td>\n",
       "      <td>NaN</td>\n",
       "      <td>NaN</td>\n",
       "      <td>NaN</td>\n",
       "      <td>NaN</td>\n",
       "      <td>NaN</td>\n",
       "    </tr>\n",
       "    <tr>\n",
       "      <th>24773</th>\n",
       "      <td>NaN</td>\n",
       "      <td>NaN</td>\n",
       "      <td>2017-09-26</td>\n",
       "      <td>2017-09-26 22:15:45</td>\n",
       "      <td>2017-09-26</td>\n",
       "      <td>2017-09-26 22:16:34</td>\n",
       "      <td>2a80f37f7a4c</td>\n",
       "      <td>5</td>\n",
       "      <td>17</td>\n",
       "      <td>whos-afraid-of-the-big-bad-ai-2a80f37f7a4c</td>\n",
       "      <td>...</td>\n",
       "      <td>https://medium.com/s/story/whos-afraid-of-the-...</td>\n",
       "      <td>NaN</td>\n",
       "      <td>NaN</td>\n",
       "      <td>NaN</td>\n",
       "      <td>NaN</td>\n",
       "      <td>NaN</td>\n",
       "      <td>NaN</td>\n",
       "      <td>NaN</td>\n",
       "      <td>NaN</td>\n",
       "      <td>NaN</td>\n",
       "    </tr>\n",
       "    <tr>\n",
       "      <th>222395</th>\n",
       "      <td>NaN</td>\n",
       "      <td>66a6d870e14e</td>\n",
       "      <td>2017-09-21</td>\n",
       "      <td>2017-09-21 04:51:15</td>\n",
       "      <td>2017-09-21</td>\n",
       "      <td>2017-09-21 04:55:18</td>\n",
       "      <td>fa5aefce7328</td>\n",
       "      <td>5</td>\n",
       "      <td>0</td>\n",
       "      <td>whos-afraid-of-the-big-bad-ai-fa5aefce7328</td>\n",
       "      <td>...</td>\n",
       "      <td>https://medium.com/s/story/whos-afraid-of-the-...</td>\n",
       "      <td>Thoughts, guides and other shenanigans from th...</td>\n",
       "      <td>NaN</td>\n",
       "      <td>athennianhq</td>\n",
       "      <td>NaN</td>\n",
       "      <td>Athennian Engineering + Data Science</td>\n",
       "      <td>hello@athennian.com</td>\n",
       "      <td>athenian-engineering</td>\n",
       "      <td>LEGALTECH,DEVOPS,ENGINEERING,CULTURE,TEAMWORK</td>\n",
       "      <td>athennian</td>\n",
       "    </tr>\n",
       "  </tbody>\n",
       "</table>\n",
       "<p>3 rows × 22 columns</p>\n",
       "</div>"
      ],
      "text/plain": [
       "       codeBlock  collectionId createdDate      createdDatetime  \\\n",
       "726          NaN           NaN  2017-09-21  2017-09-21 04:49:58   \n",
       "24773        NaN           NaN  2017-09-26  2017-09-26 22:15:45   \n",
       "222395       NaN  66a6d870e14e  2017-09-21  2017-09-21 04:51:15   \n",
       "\n",
       "       latestPublishedDate latestPublishedDatetime        postId  tagsCount  \\\n",
       "726             2017-09-21     2017-09-21 11:46:03  10c22f3e1231          1   \n",
       "24773           2017-09-26     2017-09-26 22:16:34  2a80f37f7a4c          5   \n",
       "222395          2017-09-21     2017-09-21 04:55:18  fa5aefce7328          5   \n",
       "\n",
       "        totalClapCount                                  uniqueSlug  ...  \\\n",
       "726                  4  whos-afraid-of-the-big-bad-ai-10c22f3e1231  ...   \n",
       "24773               17  whos-afraid-of-the-big-bad-ai-2a80f37f7a4c  ...   \n",
       "222395               0  whos-afraid-of-the-big-bad-ai-fa5aefce7328  ...   \n",
       "\n",
       "                                                      url  \\\n",
       "726     https://medium.com/s/story/whos-afraid-of-the-...   \n",
       "24773   https://medium.com/s/story/whos-afraid-of-the-...   \n",
       "222395  https://medium.com/s/story/whos-afraid-of-the-...   \n",
       "\n",
       "                                   publicationdescription publicationdomain  \\\n",
       "726                                                   NaN               NaN   \n",
       "24773                                                 NaN               NaN   \n",
       "222395  Thoughts, guides and other shenanigans from th...               NaN   \n",
       "\n",
       "       publicationfacebookPageName publicationfollowerCount  \\\n",
       "726                            NaN                      NaN   \n",
       "24773                          NaN                      NaN   \n",
       "222395                 athennianhq                      NaN   \n",
       "\n",
       "                             publicationname  publicationpublicEmail  \\\n",
       "726                                      NaN                     NaN   \n",
       "24773                                    NaN                     NaN   \n",
       "222395  Athennian Engineering + Data Science     hello@athennian.com   \n",
       "\n",
       "             publicationslug                                publicationtags  \\\n",
       "726                      NaN                                            NaN   \n",
       "24773                    NaN                                            NaN   \n",
       "222395  athenian-engineering  LEGALTECH,DEVOPS,ENGINEERING,CULTURE,TEAMWORK   \n",
       "\n",
       "       publicationtwitterUsername  \n",
       "726                           NaN  \n",
       "24773                         NaN  \n",
       "222395                  athennian  \n",
       "\n",
       "[3 rows x 22 columns]"
      ]
     },
     "execution_count": 730,
     "metadata": {},
     "output_type": "execute_result"
    }
   ],
   "source": [
    "train.loc[occurences, train.loc[occurences[0],:] != train.loc[occurences[1],:]]"
   ]
  },
  {
   "cell_type": "markdown",
   "metadata": {},
   "source": [
    "This time, it is not as clear. It seems to boil down to downright reposted articles with the exact same content. If we check the URLs of the different articles, we do find this to be the case."
   ]
  },
  {
   "cell_type": "code",
   "execution_count": 732,
   "metadata": {},
   "outputs": [
    {
     "name": "stdout",
     "output_type": "stream",
     "text": [
      "https://medium.com/s/story/whos-afraid-of-the-big-bad-ai-10c22f3e1231\n",
      "https://medium.com/s/story/whos-afraid-of-the-big-bad-ai-2a80f37f7a4c\n",
      "https://medium.com/s/story/whos-afraid-of-the-big-bad-ai-fa5aefce7328\n"
     ]
    }
   ],
   "source": [
    "print(train.loc[occurences[0], \"url\"])\n",
    "print(train.loc[occurences[1], \"url\"])\n",
    "print(train.loc[occurences[2], \"url\"])"
   ]
  },
  {
   "cell_type": "markdown",
   "metadata": {},
   "source": [
    "The articles even have differing clap counts.\n",
    "\n",
    "We assume that people will not read and clap for the same article twice, so we eliminate these duplicates and simply sum the clap counts."
   ]
  },
  {
   "cell_type": "code",
   "execution_count": null,
   "metadata": {
    "scrolled": true
   },
   "outputs": [],
   "source": [
    "to_drop = []\n",
    "for row in train.index:\n",
    "    if row in to_drop:\n",
    "        continue\n",
    "    duplicate_rows = train.index[np.where(train.text == train.text[row])[0]]\n",
    "    if len(duplicate_rows) > 1:\n",
    "        train.loc[row, \"totalClapCount\"] = np.sum(train.loc[duplicate_rows, \"totalClapCount\"])\n",
    "        to_drop += duplicate_rows[1:].tolist()\n",
    "\n",
    "train.drop(to_drop, inplace=True)"
   ]
  },
  {
   "cell_type": "code",
   "execution_count": null,
   "metadata": {},
   "outputs": [],
   "source": [
    "with open('train_nodupl.pkl', 'wb') as file_name:\n",
    "    pickle.dump(train, file_name)"
   ]
  },
  {
   "cell_type": "markdown",
   "metadata": {},
   "source": [
    "We're now ready to perform text cleaning. To save time, this is done in parallel on multiple CPU cores (see **mp_cleaning.py**). Multiprocessing does not work in a Jupyter notebook, since it cannot be done in interactive mode, but has to be fully run.\n",
    "\n",
    "The following steps are performed:\n",
    "\n",
    "1. Newline indicators are removed (\"\\n\" and \"\\xa0\")\n",
    "2. html content is removed\n",
    "3. URLs are removed\n",
    "4. Bibliographies are removed (they consist mainly of names and other information our model cannot process)\n",
    "5. Non-alphabetic characters are removed\n",
    "6. English contractions are expanded (they sometimes proved problematic for the stopword filter)\n",
    "7. Stopwords are filtered out\n",
    "8. The words are lemmatized\n",
    "\n",
    "The cleaned text and title features for both data sets are loaded in the following:"
   ]
  },
  {
   "cell_type": "code",
   "execution_count": 426,
   "metadata": {},
   "outputs": [],
   "source": [
    "with open('test_text_clean.pkl', 'rb') as file_name:\n",
    "    test[\"text_clean\"] = pickle.load(file_name)\n",
    "\n",
    "with open('test_titles_clean.pkl', 'rb') as file_name:\n",
    "    test[\"title_clean\"] = pickle.load(file_name)\n",
    "\n",
    "with open('train_text_clean.pkl', 'rb') as file_name:\n",
    "    train[\"text_clean\"] = pickle.load(file_name)\n",
    "    \n",
    "with open('train_titles_clean.pkl', 'rb') as file_name:\n",
    "    train[\"title_clean\"] = pickle.load(file_name)"
   ]
  },
  {
   "cell_type": "markdown",
   "metadata": {},
   "source": [
    "Unfortunately, the cleaning loop creates some word artifacts, which we have to further treat.\n",
    "\n",
    "First, we reduce overly repeating letters. In the English language, there never appear more than 2 units of the same letter in sequence. We can therefore delete letters that violate this rule, using the following function courtesy of https://rustyonrampage.github.io/text-mining/2017/11/28/spelling-correction-with-python-and-nltk.html"
   ]
  },
  {
   "cell_type": "code",
   "execution_count": 427,
   "metadata": {},
   "outputs": [],
   "source": [
    "def reduce_lengthening(text):\n",
    "    # https://rustyonrampage.github.io/text-mining/2017/11/28/spelling-correction-with-python-and-nltk.html\n",
    "    pattern = re.compile(r\"(.)\\1{2,}\")\n",
    "    return pattern.sub(r\"\\1\\1\", text)"
   ]
  },
  {
   "cell_type": "code",
   "execution_count": 428,
   "metadata": {},
   "outputs": [],
   "source": [
    "train[\"text_clean\"] = train.text_clean.apply(reduce_lengthening)\n",
    "train[\"title_clean\"] = train.title_clean.apply(reduce_lengthening)"
   ]
  },
  {
   "cell_type": "code",
   "execution_count": 429,
   "metadata": {},
   "outputs": [],
   "source": [
    "test[\"text_clean\"] = test.text_clean.apply(reduce_lengthening)\n",
    "test[\"title_clean\"] = test.title_clean.apply(reduce_lengthening)"
   ]
  },
  {
   "cell_type": "markdown",
   "metadata": {},
   "source": [
    "Second, we remove short and/or unnecessary words. Words with length 1 are entirely removed, while words with length 2 are only kept if they match with a custom list that we defined by having examined the 2-letter out-of-vocabulary words of our pre-trained embeddings which we introduce later.\n",
    "\n",
    "Third, repeating spaces as well as spaces at the start/end of a text are removed."
   ]
  },
  {
   "cell_type": "code",
   "execution_count": 430,
   "metadata": {},
   "outputs": [],
   "source": [
    "def short_words(text):\n",
    "    for word in text.split():\n",
    "        if len(word) == 1:\n",
    "            text = re.sub(r\"\\b\"+word+r\"\\b\", \"\", text)\n",
    "        elif len(word) < 3:\n",
    "            if not word in [\"tf\",\"py\", \"rl\", \"ad\", \"do\",\"id\",\"ip\",\"nn\",\"at\",\"pi\",\"tv\",\"ai\", \"ui\", \"io\", \"us\", \"ml\", \"go\", \"vr\",\"co\",\"ex\",\"hr\",\"uk\",\"en\",\"iq\",\"ki\", \"oh\", \"eu\",\"vm\",\"mr\",\"ar\",\"fb\",\"np\",\"ok\",\"bi\",\"dr\"]:\n",
    "                text = re.sub(r\"\\b\"+word+r\"\\b\", \"\", text)\n",
    "    text = re.sub(r\"\\s{2,}\", \" \", text)\n",
    "    text = re.sub(r\"^\\s|\\s$\", \"\", text)\n",
    "    return text"
   ]
  },
  {
   "cell_type": "code",
   "execution_count": 431,
   "metadata": {},
   "outputs": [],
   "source": [
    "train[\"title_clean\"] = train.title_clean.apply(short_words)\n",
    "train[\"text_clean\"] = train.text_clean.apply(short_words)"
   ]
  },
  {
   "cell_type": "code",
   "execution_count": 432,
   "metadata": {},
   "outputs": [],
   "source": [
    "test[\"title_clean\"] = test.title_clean.apply(short_words)\n",
    "test[\"text_clean\"] = test.text_clean.apply(short_words)"
   ]
  },
  {
   "cell_type": "markdown",
   "metadata": {},
   "source": [
    "* * *\n",
    "\n",
    "Now that our text features are clean, we can pay attention to non-text features and transform them into a useable state.\n",
    "\n",
    "We start by cleaning the \"Responses\" feature of the test set, which we would like to convert to numbers:"
   ]
  },
  {
   "cell_type": "code",
   "execution_count": 433,
   "metadata": {
    "scrolled": true
   },
   "outputs": [
    {
     "data": {
      "text/plain": [
       "index\n",
       "0      627 responses\n",
       "1      156 responses\n",
       "2      176 responses\n",
       "5       72 responses\n",
       "7       19 responses\n",
       "           ...      \n",
       "598    181 responses\n",
       "599     24 responses\n",
       "600     24 responses\n",
       "601    116 responses\n",
       "602     34 responses\n",
       "Name: Responses, Length: 514, dtype: object"
      ]
     },
     "execution_count": 433,
     "metadata": {},
     "output_type": "execute_result"
    }
   ],
   "source": [
    "test.Responses"
   ]
  },
  {
   "cell_type": "markdown",
   "metadata": {},
   "source": [
    "We remove all non-numeric characters and fill in the 82 missing values with the median."
   ]
  },
  {
   "cell_type": "code",
   "execution_count": 763,
   "metadata": {},
   "outputs": [],
   "source": [
    "for t in test.index:\n",
    "    test.loc[t, \"Responses\"] = re.sub(r\"[^0-9]\", \"\", str(test.Responses[t]))\n",
    "    if test.loc[t, \"Responses\"] == \"\":\n",
    "        test.loc[t, \"Responses\"] = np.nan\n",
    "test.Responses = test.Responses.astype(\"float32\")"
   ]
  },
  {
   "cell_type": "code",
   "execution_count": 764,
   "metadata": {},
   "outputs": [
    {
     "data": {
      "text/plain": [
       "82"
      ]
     },
     "execution_count": 764,
     "metadata": {},
     "output_type": "execute_result"
    }
   ],
   "source": [
    "sum(test.Responses.isnull())"
   ]
  },
  {
   "cell_type": "code",
   "execution_count": 765,
   "metadata": {},
   "outputs": [],
   "source": [
    "test.Responses.fillna(test.Responses.median(), inplace=True)"
   ]
  },
  {
   "cell_type": "markdown",
   "metadata": {},
   "source": [
    "Moving on, the date columns of both data sets are not useable in their current state."
   ]
  },
  {
   "cell_type": "code",
   "execution_count": 771,
   "metadata": {},
   "outputs": [
    {
     "data": {
      "text/plain": [
       "0         2018-09-18\n",
       "3         2018-01-07\n",
       "7         2018-03-08\n",
       "11        2018-04-16\n",
       "16        2017-10-20\n",
       "             ...    \n",
       "279552    2018-01-04\n",
       "279557    2018-05-07\n",
       "279567    2018-06-12\n",
       "279570    2017-11-27\n",
       "279572    2018-03-21\n",
       "Name: createdDate, Length: 66089, dtype: object"
      ]
     },
     "execution_count": 771,
     "metadata": {},
     "output_type": "execute_result"
    }
   ],
   "source": [
    "train.createdDate"
   ]
  },
  {
   "cell_type": "code",
   "execution_count": 772,
   "metadata": {},
   "outputs": [
    {
     "data": {
      "text/plain": [
       "index\n",
       "0         Daniel Jeffries in HackerNoon.comJul 31, 2017\n",
       "1            Noam Levenson in HackerNoon.comDec 6, 2017\n",
       "2         Daniel Jeffries in HackerNoon.comJul 21, 2017\n",
       "5          Haseeb Qureshi in HackerNoon.comFeb 19, 2018\n",
       "7            William Belk in HackerNoon.comJan 28, 2018\n",
       "                             ...                       \n",
       "598    Tim Romero in Startup Lessons LearnedJun 9, 2016\n",
       "599                            Product HuntJun 10, 2016\n",
       "600                                  Joe ProcopioMar 19\n",
       "601                 Winerist in Be YourselfMar 18, 2016\n",
       "602             Aytekin Tank in The StartupJan 11, 2018\n",
       "Name: PublicationDetails, Length: 514, dtype: object"
      ]
     },
     "execution_count": 772,
     "metadata": {},
     "output_type": "execute_result"
    }
   ],
   "source": [
    "test.PublicationDetails"
   ]
  },
  {
   "cell_type": "markdown",
   "metadata": {},
   "source": [
    "We start by cleaning the test set. From the raw PublicationDetails column, we extract the weekday, month, and year of publication."
   ]
  },
  {
   "cell_type": "code",
   "execution_count": 886,
   "metadata": {},
   "outputs": [],
   "source": [
    "# Make PublicationDetails column of test set into date:\n",
    "weekdays = pd.Series(index=test.index,dtype=\"str\")\n",
    "months = pd.Series(index=test.index,dtype=\"str\")\n",
    "years = pd.Series(index=test.index,dtype=\"str\")"
   ]
  },
  {
   "cell_type": "code",
   "execution_count": 887,
   "metadata": {},
   "outputs": [],
   "source": [
    "for ix in test.index:\n",
    "    rawdate = ''.join(re.findall(r\"(Jan|Feb|Mar|Apr|May|Jun|Jul|Aug|Sep|Oct|Nov|Dec)( \\d+)(, \\d{4})?\", test.PublicationDetails[ix])[0])\n",
    "    if \",\" in rawdate:  # If a year number is present\n",
    "        dt = datetime.datetime.strptime(rawdate, '%b %d, %Y')\n",
    "        weekdays[ix] = dt.strftime('%A')\n",
    "        months[ix] = dt.strftime('%B')\n",
    "        years[ix] = dt.strftime('%Y')\n",
    "    else:\n",
    "        dt = datetime.datetime.strptime(rawdate, '%b %d')\n",
    "        weekdays[ix] = np.nan\n",
    "        months[ix] = dt.strftime('%B')\n",
    "        years[ix] = np.nan"
   ]
  },
  {
   "cell_type": "code",
   "execution_count": null,
   "metadata": {},
   "outputs": [],
   "source": [
    "test[\"year\"] = years.fillna(\"None\").astype(\"category\")\n",
    "test[\"month\"] = months.astype(\"category\")\n",
    "test[\"weekday\"] = weekdays.fillna(\"None\").astype(\"category\")"
   ]
  },
  {
   "cell_type": "markdown",
   "metadata": {},
   "source": [
    "Unfortunately, there appear to be some missing years, which results in missing weekdays, too. We try to resolve this by looking for a year in the text:"
   ]
  },
  {
   "cell_type": "code",
   "execution_count": 505,
   "metadata": {
    "scrolled": true
   },
   "outputs": [
    {
     "name": "stdout",
     "output_type": "stream",
     "text": [
      "['2018', '2018']\n",
      "[]\n",
      "[]\n",
      "[]\n",
      "[]\n",
      "[]\n",
      "[]\n",
      "[]\n",
      "[]\n",
      "[]\n",
      "[]\n",
      "[]\n",
      "[]\n",
      "[]\n",
      "[]\n",
      "['2019']\n",
      "['2019', '2019']\n",
      "[]\n",
      "[]\n",
      "[]\n",
      "[]\n",
      "[]\n",
      "[]\n",
      "[]\n",
      "[]\n",
      "[]\n",
      "['2019', '2016', '2019', '2019']\n",
      "[]\n",
      "[]\n",
      "[]\n",
      "[]\n",
      "[]\n",
      "[]\n",
      "[]\n",
      "[]\n",
      "[]\n",
      "[]\n",
      "[]\n",
      "['2019']\n",
      "['2019']\n",
      "[]\n",
      "[]\n",
      "[]\n",
      "[]\n",
      "[]\n",
      "[]\n",
      "['2015', '2017', '2015', '2015', '2015', '2017', '2015', '2017', '2018']\n",
      "[]\n",
      "[]\n",
      "[]\n",
      "[]\n",
      "['2015', '2018']\n",
      "['2018', '2018', '2017', '2017', '2016', '2015', '2015', '2014', '2014']\n",
      "[]\n",
      "[]\n",
      "[]\n",
      "[]\n",
      "[]\n",
      "[]\n",
      "['2015', '2017', '2015', '2015', '2015', '2017', '2015', '2017', '2018']\n",
      "[]\n",
      "[]\n",
      "['2015', '2018']\n",
      "['2018', '2018', '2017', '2017', '2016', '2015', '2015', '2014', '2014']\n",
      "[]\n",
      "['2018', '2018']\n",
      "['2014', '2018']\n",
      "[]\n",
      "[]\n",
      "[]\n",
      "[]\n"
     ]
    }
   ],
   "source": [
    "for ix in test.loc[test.year==\"None\"].index:\n",
    "    print(re.findall(r\"\\b201[0-9]\\b\", test.text[ix]))"
   ]
  },
  {
   "cell_type": "markdown",
   "metadata": {},
   "source": [
    "We unfortunately find no evidence of a joint pattern, and leave the years and weekdays as \"None\"-category."
   ]
  },
  {
   "cell_type": "markdown",
   "metadata": {},
   "source": [
    "The train set is a little easier to clean since there are no missing values:"
   ]
  },
  {
   "cell_type": "code",
   "execution_count": 776,
   "metadata": {},
   "outputs": [],
   "source": [
    "weekdays = pd.Series(index=train.index,dtype=\"str\")\n",
    "months = pd.Series(index=train.index,dtype=\"str\")\n",
    "years = pd.Series(index=train.index,dtype=\"str\")"
   ]
  },
  {
   "cell_type": "code",
   "execution_count": 777,
   "metadata": {},
   "outputs": [],
   "source": [
    "dt = train.createdDate.apply(lambda x: datetime.datetime.strptime(x, '%Y-%m-%d'))\n",
    "weekdays = dt.apply(lambda x: x.strftime('%A'))\n",
    "months = dt.apply(lambda x: x.strftime('%B'))\n",
    "years = dt.apply(lambda x: x.strftime('%Y'))"
   ]
  },
  {
   "cell_type": "code",
   "execution_count": null,
   "metadata": {},
   "outputs": [],
   "source": [
    "train[\"year\"] = years.astype(\"category\")\n",
    "train[\"month\"] = months.astype(\"category\")\n",
    "train[\"weekday\"] = weekdays.astype(\"category\")\n",
    "train[\"weekday\"].cat.add_categories(\"None\", inplace=True)"
   ]
  },
  {
   "cell_type": "markdown",
   "metadata": {},
   "source": [
    "---\n",
    "\n",
    "## 3. Feature Recovery"
   ]
  },
  {
   "cell_type": "markdown",
   "metadata": {},
   "source": [
    "We already saw that the test set contains vastly less features than the train set. Some of the features can be recovered, however. In the following, we recover the imageCount, wordCount, readingTime, and Length features in the test set.\n",
    "\n",
    "First, we figure out that the \"Length\" feature of the test set is simply the character count of the unclean text feature:"
   ]
  },
  {
   "cell_type": "code",
   "execution_count": 490,
   "metadata": {},
   "outputs": [
    {
     "data": {
      "text/plain": [
       "True"
      ]
     },
     "execution_count": 490,
     "metadata": {},
     "output_type": "execute_result"
    }
   ],
   "source": [
    "all(test.Length == [len(x) for x in test.text])"
   ]
  },
  {
   "cell_type": "markdown",
   "metadata": {},
   "source": [
    "However: The text in the test set is different than the one in the train set. We want to preserve this feature but the values should be calculated on equal footing.\n",
    "\n",
    "We therefore have to half-clean the text (not removing punctuation, stop words etc.) to make sure that both datasets are of equal format. Afterwards, we can perform the recovery operations.\n",
    "\n",
    "Furthermore, the half clean versions of the texts will be useful in feature engineering later-on.\n",
    "\n",
    "The half_clean function is basically the same as our full cleaning function, except that it allows punctuation and numbers, and does not remove stopwords or perform lemmatization."
   ]
  },
  {
   "cell_type": "code",
   "execution_count": 434,
   "metadata": {},
   "outputs": [],
   "source": [
    "def half_clean(text):\n",
    "    # remove newlines\n",
    "    half_clean_text = text.replace(\"\\n\", \" \")\n",
    "    half_clean_text = half_clean_text.replace(\"\\xa0\", \" \")\n",
    "    # remove html content\n",
    "    half_clean_text = BeautifulSoup(half_clean_text, \"html.parser\").get_text()\n",
    "    # remove URLs\n",
    "    half_clean_text = re.sub(r'http\\S+', '', half_clean_text)\n",
    "    half_clean_text = re.sub(r'www\\.\\S+', '', half_clean_text)\n",
    "    # remove bibliographies (can be at start or end):\n",
    "    # assuming bibliography is shorter than text:\n",
    "    test_split = str(half_clean_text).split(\"Bibliography\")\n",
    "    half_clean_text = test_split[np.where(np.array([len(x) for x in test_split]) == max([len(x) for x in test_split]))[0].tolist().pop()]\n",
    "    # fix contractions\n",
    "    half_clean_text = re.sub(r\"['’]ll\", \" will\", half_clean_text)\n",
    "    half_clean_text = re.sub(r\"['’]ve\", \" have\", half_clean_text)\n",
    "    half_clean_text = re.sub(r\"['’]re\", \" are\", half_clean_text)\n",
    "    half_clean_text = re.sub(r\"['’]d\", \" would\", half_clean_text)\n",
    "    half_clean_text = re.sub(r\"['’]m\", \" am\", half_clean_text)\n",
    "    half_clean_text = re.sub(r\"(?i)there['’]s\", \"there is\", half_clean_text)\n",
    "    half_clean_text = re.sub(r\"(?i)that['’]s\", \"that is\", half_clean_text)\n",
    "    half_clean_text = re.sub(r\"(?i)it['’]s\", \"it is\", half_clean_text)\n",
    "    half_clean_text = re.sub(r\"(?i)he['’]s\", \"he is\", half_clean_text)\n",
    "    half_clean_text = re.sub(r\"can['’]t\", \"cannot\", half_clean_text)\n",
    "    half_clean_text = re.sub(r\"won['’]t\", \"will not\", half_clean_text)\n",
    "    half_clean_text = re.sub(r\"n['’]t\", \" not\", half_clean_text)\n",
    "    half_clean_text = half_clean_text.replace(\"gonna\", \"going to\")\n",
    "    half_clean_text = half_clean_text.replace(\"wanna\", \"want to\")\n",
    "    half_clean_text = half_clean_text.replace(\"gotta\", \"got to\")\n",
    "    # remove inimportant characters\n",
    "    half_clean_text = re.sub(r\"[^a-zA-Z0-9-'\\\"’,\\.:;\\?!-]\", \" \", half_clean_text)\n",
    "    # fix multi spaces\n",
    "    half_clean_text = re.sub(r\"\\s{2,}\", \" \", half_clean_text)\n",
    "    return half_clean_text"
   ]
  },
  {
   "cell_type": "code",
   "execution_count": 435,
   "metadata": {},
   "outputs": [],
   "source": [
    "train[\"text_half_clean\"] = train.text.apply(half_clean)\n",
    "test[\"text_half_clean\"] = test.text.apply(half_clean)"
   ]
  },
  {
   "cell_type": "markdown",
   "metadata": {},
   "source": [
    "Examine an example result: "
   ]
  },
  {
   "cell_type": "code",
   "execution_count": 782,
   "metadata": {},
   "outputs": [
    {
     "data": {
      "text/plain": [
       "'Private Business, Government and Blockchain A major private IT company implements blockchain, artificial intelligence, and Internet of Things to optimize and improve high technology workflow. The representatives of a major state structure from the same country like this experiment so much they decide to use it in their work and conclude an agreement with the IT giant. This is an ideal example of interaction between private business and the state regarding blockchain, do not you think? What is even better is that this story is real: in South Korea a local customs office has signed the respective partnership agreement with Samsung. I believe that the near-term development of blockchain will be built on just such examples of cooperation. In a world where all the best technological decisions are copied at supersonic speed, one cannot remain behind the trends for long. that is why I am confident that blockchain and other crypto technologies will soon be adopted around the world. In the 21st century it would be strange to go searching for a telephone booth to make a call, when you can do so from anywhere on the planet with one click on your gadget. '"
      ]
     },
     "execution_count": 782,
     "metadata": {},
     "output_type": "execute_result"
    }
   ],
   "source": [
    "train.text_half_clean[0]"
   ]
  },
  {
   "cell_type": "markdown",
   "metadata": {},
   "source": [
    "Looks good! Now, we can perform the operations.\n",
    "\n",
    "We first calculate the new Length feature on equal text format:"
   ]
  },
  {
   "cell_type": "code",
   "execution_count": 787,
   "metadata": {},
   "outputs": [],
   "source": [
    "train[\"Length\"] = train.text_half_clean.apply(len)\n",
    "test[\"Length\"] = test.text_half_clean.apply(len)"
   ]
  },
  {
   "cell_type": "markdown",
   "metadata": {},
   "source": [
    "For the image count, we count occurences of .jp(e)g and .png in the unclean test set's text, since it still contains html elements.\n",
    "\n",
    "Reading time is determined by a unique formula medium.com uses. The word count is divided by 265 and extra seconds are added for every image present in the article. The first image adds 13 seconds to the reading time, with each additional image adding 1 second less, down to a lower limit of 3 seconds."
   ]
  },
  {
   "cell_type": "code",
   "execution_count": 436,
   "metadata": {},
   "outputs": [],
   "source": [
    "def imageCount(text):\n",
    "    hits = re.findall(r'(?i)\\.jpe?g|\\.png', text)\n",
    "    return len(hits)\n",
    "    \n",
    "def readingTime(df):\n",
    "    rt = pd.Series(index=df.index, dtype=\"float32\")\n",
    "    for row in rt.index:\n",
    "        time = df.wordCount[row] / 265  # Note that a wordCount column is needed for this function to work.\n",
    "        extra = sum([max(3, x) for x in range(13 - df.imageCount[row], 13)[::-1]])  # imageCount is also needed.\n",
    "        rt[row] = time + extra/60\n",
    "    return rt"
   ]
  },
  {
   "cell_type": "markdown",
   "metadata": {},
   "source": [
    "We have to be careful to calculate imageCount and wordCount before readingTime, since the latter requires both of these features to be present in the dataframe."
   ]
  },
  {
   "cell_type": "code",
   "execution_count": 437,
   "metadata": {},
   "outputs": [],
   "source": [
    "test[\"imageCount\"] = test.text.apply(imageCount)\n",
    "test[\"wordCount\"] = test.text_half_clean.apply(lambda x: len(re.findall(r\"\\w+\", x)))\n",
    "test[\"readingTime\"] = readingTime(test)"
   ]
  },
  {
   "cell_type": "markdown",
   "metadata": {},
   "source": [
    "---\n",
    "\n",
    "## 4. Feature Analysis and Engineering"
   ]
  },
  {
   "cell_type": "markdown",
   "metadata": {},
   "source": [
    "In the following, we want to analyze the statistical properties of the data and whether the features we created actually hold any predictive power."
   ]
  },
  {
   "cell_type": "markdown",
   "metadata": {},
   "source": [
    "---\n",
    "### 4.1 Target Distribution\n",
    "First, we take a look at our target feature:"
   ]
  },
  {
   "cell_type": "code",
   "execution_count": 23,
   "metadata": {
    "scrolled": false
   },
   "outputs": [
    {
     "data": {
      "image/png": "[encoded data removed]",
      "text/plain": [
       "<Figure size 1080x288 with 2 Axes>"
      ]
     },
     "metadata": {
      "needs_background": "light"
     },
     "output_type": "display_data"
    }
   ],
   "source": [
    "plt.subplots(1, 2, figsize=(15, 4))\n",
    "plt.subplot(1, 2, 1)\n",
    "plt.title(\"Total Clap Count\")\n",
    "train.totalClapCount.plot.box();\n",
    "plt.subplot(1, 2, 2)\n",
    "plt.title(\"Total Clap Count\")\n",
    "train.totalClapCount.plot.hist(bins=30);"
   ]
  },
  {
   "cell_type": "markdown",
   "metadata": {},
   "source": [
    "We notice that most of the articles have very low clap counts while there exist a few articles with vastly higher ones. We refrain from truncating the target variable since these articles are legitimate and achieved the high clap counts for a reason. If this holds true, there should be some kind of relatioship with a feature like \"Responses\":"
   ]
  },
  {
   "cell_type": "code",
   "execution_count": 164,
   "metadata": {},
   "outputs": [
    {
     "data": {
      "image/png": "[encoded data removed]",
      "text/plain": [
       "<Figure size 576x396 with 1 Axes>"
      ]
     },
     "metadata": {},
     "output_type": "display_data"
    }
   ],
   "source": [
    "plt.scatter(train.Responses, train.totalClapCount);"
   ]
  },
  {
   "cell_type": "markdown",
   "metadata": {},
   "source": [
    "Indeed, this is the case. However, we notice another singular anomality in this scatter plot. The one article that got the most responses actually deviates from the joint distribution by having way too low of a clap count."
   ]
  },
  {
   "cell_type": "code",
   "execution_count": 129,
   "metadata": {},
   "outputs": [
    {
     "data": {
      "text/plain": [
       "Int64Index([49853], dtype='int64')"
      ]
     },
     "execution_count": 129,
     "metadata": {},
     "output_type": "execute_result"
    }
   ],
   "source": [
    "train.index[np.where(train.Responses > 3000)]"
   ]
  },
  {
   "cell_type": "code",
   "execution_count": 130,
   "metadata": {
    "scrolled": true
   },
   "outputs": [
    {
     "data": {
      "text/plain": [
       "'https://medium.com/s/story/the-snips-air-token-sale-4511320d68d0'"
      ]
     },
     "execution_count": 130,
     "metadata": {},
     "output_type": "execute_result"
    }
   ],
   "source": [
    "train.url[49853]"
   ]
  },
  {
   "cell_type": "markdown",
   "metadata": {},
   "source": [
    "It seems to be about some kind of ICO, and most of the comments are simply praising the project.\n",
    "\n",
    "We can see how much leverage this single point has on a linear regression:"
   ]
  },
  {
   "cell_type": "code",
   "execution_count": 167,
   "metadata": {},
   "outputs": [
    {
     "data": {
      "image/png": "[encoded data removed]",
      "text/plain": [
       "<Figure size 1080x288 with 2 Axes>"
      ]
     },
     "metadata": {},
     "output_type": "display_data"
    }
   ],
   "source": [
    "plt.subplots(1, 2, figsize=(15, 4))\n",
    "plt.subplot(1, 2, 1)\n",
    "plt.title(\"Original\")\n",
    "m, b = np.polyfit(train.Responses, train.totalClapCount, 1)\n",
    "plt.scatter(train.Responses, train.totalClapCount)\n",
    "plt.plot(train.Responses, m*train.Responses + b, color=\"red\");\n",
    "plt.subplot(1, 2, 2)\n",
    "plt.title(\"Without Outlier\")\n",
    "m, b = np.polyfit(train.drop(49853).Responses, train.drop(49853).totalClapCount, 1)\n",
    "plt.scatter(train.Responses, train.totalClapCount)\n",
    "plt.plot(train.drop(49853).Responses, m*train.drop(49853).Responses + b, color=\"red\");"
   ]
  },
  {
   "cell_type": "markdown",
   "metadata": {},
   "source": [
    "For this reason, we decide to truncate the responses on this article to fit our regression line:"
   ]
  },
  {
   "cell_type": "code",
   "execution_count": 171,
   "metadata": {},
   "outputs": [
    {
     "data": {
      "text/plain": [
       "185.07930865556216"
      ]
     },
     "execution_count": 171,
     "metadata": {},
     "output_type": "execute_result"
    }
   ],
   "source": [
    "new_value = (train.totalClapCount[49853] - b) / m\n",
    "new_value"
   ]
  },
  {
   "cell_type": "code",
   "execution_count": 183,
   "metadata": {},
   "outputs": [],
   "source": [
    "train.loc[49853, \"Responses\"] = round(new_value)"
   ]
  },
  {
   "cell_type": "markdown",
   "metadata": {},
   "source": [
    "We still need to take this uneven distribution into consideration for training, whether through using a robust loss function or some kind of transformation. Especially when training an NLP model, this is important, since there is no Response feature to guide it."
   ]
  },
  {
   "cell_type": "markdown",
   "metadata": {},
   "source": [
    "---\n",
    "### 4.2 Reading Ease\n",
    "Moving on, we introduce a measure called Flesch-Reading-Ease (FRE), which is a numerical value for the readability of a text. The higher the value, the better, with well-readable texts averaging an FRE of around 60-70. The formula is dependent on the language analyzed. Below is the formula for the English language:"
   ]
  },
  {
   "cell_type": "markdown",
   "metadata": {},
   "source": [
    "$FRE = 206.835 - 1.015 \\cdot ASL - 84.6 \\cdot ASW$"
   ]
  },
  {
   "cell_type": "markdown",
   "metadata": {},
   "source": [
    "$ASL \\text{ (Average Sentence Length)} := \\frac{Word Count}{Sentence Count}$\n",
    "\n",
    "$ASW \\text{ (Average Syllables per Word)} := \\frac{Syllable Count}{Word Count}$"
   ]
  },
  {
   "cell_type": "code",
   "execution_count": 438,
   "metadata": {},
   "outputs": [],
   "source": [
    "def fre(text):\n",
    "    wordcount = len(re.findall(r\"\\w+\", text))\n",
    "    if wordcount == 0:\n",
    "        return np.nan\n",
    "    sentencecount = len(sent_tokenize(text))\n",
    "    syllablecount = textstat.syllable_count(text)\n",
    "    asl = wordcount / sentencecount\n",
    "    asw = syllablecount / wordcount\n",
    "    return 206.835 - 1.015 * asl - 84.6 * asw"
   ]
  },
  {
   "cell_type": "markdown",
   "metadata": {},
   "source": [
    "As mentioned earlier, the half clean version of the texts comes in handy for counting sentences and words."
   ]
  },
  {
   "cell_type": "code",
   "execution_count": 439,
   "metadata": {},
   "outputs": [],
   "source": [
    "train[\"readingEase\"] = train.text_half_clean.apply(fre)\n",
    "test[\"readingEase\"] = test.text_half_clean.apply(fre)"
   ]
  },
  {
   "cell_type": "markdown",
   "metadata": {},
   "source": [
    "Normally, this score ranges from 0-100, and - while values below 0 and above 100 are possible - they are very rare. If we look at the distribution in our case, we do find the most articles to be in the expected range. However, there are some exceedingly negative scores which almost definitely signal that something is wrong with these texts."
   ]
  },
  {
   "cell_type": "code",
   "execution_count": 440,
   "metadata": {},
   "outputs": [
    {
     "data": {
      "image/png": "[encoded data removed]",
      "text/plain": [
       "<Figure size 576x396 with 1 Axes>"
      ]
     },
     "metadata": {},
     "output_type": "display_data"
    }
   ],
   "source": [
    "train.readingEase.plot.box();"
   ]
  },
  {
   "cell_type": "markdown",
   "metadata": {},
   "source": [
    "First, we handle some articles that got a missing value because their word count was 0:"
   ]
  },
  {
   "cell_type": "code",
   "execution_count": 919,
   "metadata": {
    "scrolled": true
   },
   "outputs": [
    {
     "data": {
      "text/html": [
       "<div>\n",
       "<style scoped>\n",
       "    .dataframe tbody tr th:only-of-type {\n",
       "        vertical-align: middle;\n",
       "    }\n",
       "\n",
       "    .dataframe tbody tr th {\n",
       "        vertical-align: top;\n",
       "    }\n",
       "\n",
       "    .dataframe thead th {\n",
       "        text-align: right;\n",
       "    }\n",
       "</style>\n",
       "<table border=\"1\" class=\"dataframe\">\n",
       "  <thead>\n",
       "    <tr style=\"text-align: right;\">\n",
       "      <th></th>\n",
       "      <th>title</th>\n",
       "      <th>text</th>\n",
       "      <th>totalClapCount</th>\n",
       "      <th>wordCount</th>\n",
       "    </tr>\n",
       "  </thead>\n",
       "  <tbody>\n",
       "    <tr>\n",
       "      <th>48738</th>\n",
       "      <td>www.destiney-ai.com :)</td>\n",
       "      <td>www.destiney-ai.com :)\\n\\n</td>\n",
       "      <td>0</td>\n",
       "      <td>3</td>\n",
       "    </tr>\n",
       "    <tr>\n",
       "      <th>77229</th>\n",
       "      <td>Humanity will suffer under AI if we don´t act ...</td>\n",
       "      <td>\\n</td>\n",
       "      <td>30</td>\n",
       "      <td>0</td>\n",
       "    </tr>\n",
       "    <tr>\n",
       "      <th>106849</th>\n",
       "      <td>https://icoratingblog.wordpress.com/2017/12/07...</td>\n",
       "      <td>https://icoratingblog.wordpress.com/2017/12/07...</td>\n",
       "      <td>0</td>\n",
       "      <td>3</td>\n",
       "    </tr>\n",
       "    <tr>\n",
       "      <th>134191</th>\n",
       "      <td>https://icoratingblog.wordpress.com/2017/12/05...</td>\n",
       "      <td>https://icoratingblog.wordpress.com/2017/12/05...</td>\n",
       "      <td>0</td>\n",
       "      <td>3</td>\n",
       "    </tr>\n",
       "    <tr>\n",
       "      <th>139814</th>\n",
       "      <td>https://blog.juecell.in/2018/08/artificial-int...</td>\n",
       "      <td>https://blog.juecell.in/2018/08/artificial-int...</td>\n",
       "      <td>0</td>\n",
       "      <td>4</td>\n",
       "    </tr>\n",
       "    <tr>\n",
       "      <th>166624</th>\n",
       "      <td>https://knowledgebuilderblog.wordpress.com/</td>\n",
       "      <td>https://knowledgebuilderblog.wordpress.com/\\n</td>\n",
       "      <td>0</td>\n",
       "      <td>1</td>\n",
       "    </tr>\n",
       "    <tr>\n",
       "      <th>223367</th>\n",
       "      <td>https://icoratingblog.wordpress.com/2017/12/07...</td>\n",
       "      <td>https://icoratingblog.wordpress.com/2017/12/07...</td>\n",
       "      <td>0</td>\n",
       "      <td>3</td>\n",
       "    </tr>\n",
       "  </tbody>\n",
       "</table>\n",
       "</div>"
      ],
      "text/plain": [
       "                                                    title  \\\n",
       "48738                              www.destiney-ai.com :)   \n",
       "77229   Humanity will suffer under AI if we don´t act ...   \n",
       "106849  https://icoratingblog.wordpress.com/2017/12/07...   \n",
       "134191  https://icoratingblog.wordpress.com/2017/12/05...   \n",
       "139814  https://blog.juecell.in/2018/08/artificial-int...   \n",
       "166624        https://knowledgebuilderblog.wordpress.com/   \n",
       "223367  https://icoratingblog.wordpress.com/2017/12/07...   \n",
       "\n",
       "                                                     text  totalClapCount  \\\n",
       "48738                          www.destiney-ai.com :)\\n\\n               0   \n",
       "77229                                                  \\n              30   \n",
       "106849  https://icoratingblog.wordpress.com/2017/12/07...               0   \n",
       "134191  https://icoratingblog.wordpress.com/2017/12/05...               0   \n",
       "139814  https://blog.juecell.in/2018/08/artificial-int...               0   \n",
       "166624      https://knowledgebuilderblog.wordpress.com/\\n               0   \n",
       "223367  https://icoratingblog.wordpress.com/2017/12/07...               0   \n",
       "\n",
       "        wordCount  \n",
       "48738           3  \n",
       "77229           0  \n",
       "106849          3  \n",
       "134191          3  \n",
       "139814          4  \n",
       "166624          1  \n",
       "223367          3  "
      ]
     },
     "execution_count": 919,
     "metadata": {},
     "output_type": "execute_result"
    }
   ],
   "source": [
    "train.loc[train.readingEase.isnull(), [\"title\", \"text\", \"totalClapCount\", \"wordCount\"]]"
   ]
  },
  {
   "cell_type": "markdown",
   "metadata": {},
   "source": [
    "We notice that these articles only consist of URLs or are empty altogether. We therefore opt to drop them from the set."
   ]
  },
  {
   "cell_type": "code",
   "execution_count": 928,
   "metadata": {
    "scrolled": true
   },
   "outputs": [],
   "source": [
    "train.drop(train.index[train.readingEase.isnull()], inplace=True)"
   ]
  },
  {
   "cell_type": "markdown",
   "metadata": {},
   "source": [
    "We further observe 471 articles with negative reading ease. Looking at the boxplot, a couple of articles with reading ease below -400 stand out especially."
   ]
  },
  {
   "cell_type": "code",
   "execution_count": 972,
   "metadata": {
    "scrolled": true
   },
   "outputs": [
    {
     "data": {
      "text/plain": [
       "15"
      ]
     },
     "execution_count": 972,
     "metadata": {},
     "output_type": "execute_result"
    }
   ],
   "source": [
    "len(train.loc[train.readingEase.values < -400, :])"
   ]
  },
  {
   "cell_type": "code",
   "execution_count": 975,
   "metadata": {},
   "outputs": [],
   "source": [
    "for x in train.loc[train.readingEase.values < -400, \"text_half_clean\"]:\n",
    "    print(x)"
   ]
  },
  {
   "cell_type": "markdown",
   "metadata": {},
   "source": [
    "These seem to be weirdly formatted or spam articles. We also drop these from the set."
   ]
  },
  {
   "cell_type": "code",
   "execution_count": 970,
   "metadata": {},
   "outputs": [],
   "source": [
    "train.drop(train.index[train.readingEase.values < -400], inplace=True)"
   ]
  },
  {
   "cell_type": "markdown",
   "metadata": {},
   "source": [
    "We do not want to alter the data set too much, however, since such spam articles are likely to achieve a low clap count. Therefore, we rely on the predictive power of this feature for the remaining articles with negative reading ease.\n",
    "\n",
    "As we can see, almost all the articles with clap count above 0 lie in the usual FRE range:"
   ]
  },
  {
   "cell_type": "code",
   "execution_count": 981,
   "metadata": {},
   "outputs": [
    {
     "data": {
      "image/png": "[encoded data removed]",
      "text/plain": [
       "<Figure size 432x288 with 1 Axes>"
      ]
     },
     "metadata": {
      "needs_background": "light"
     },
     "output_type": "display_data"
    }
   ],
   "source": [
    "plt.figure()\n",
    "plt.ylabel(\"totalClapCount\")\n",
    "plt.xlabel(\"readingEase\")\n",
    "plt.scatter(train.readingEase, train.totalClapCount);"
   ]
  },
  {
   "cell_type": "markdown",
   "metadata": {},
   "source": [
    "The distribution in the test set looks healthy."
   ]
  },
  {
   "cell_type": "code",
   "execution_count": 1064,
   "metadata": {
    "scrolled": true
   },
   "outputs": [
    {
     "data": {
      "image/png": "[encoded data removed]",
      "text/plain": [
       "<Figure size 432x288 with 1 Axes>"
      ]
     },
     "metadata": {
      "needs_background": "light"
     },
     "output_type": "display_data"
    }
   ],
   "source": [
    "test.readingEase.plot.box();"
   ]
  },
  {
   "cell_type": "markdown",
   "metadata": {},
   "source": [
    "---\n",
    "### 4.3 Date features\n",
    "We will now analyze the date features we created earlier.\n",
    "\n",
    "The average clap count seems to fluctuate between the weekdays. Especially on the weekends, one can expect relatively higher claps on their articles. This feature seems to be useful for prediction."
   ]
  },
  {
   "cell_type": "code",
   "execution_count": 1068,
   "metadata": {
    "scrolled": true
   },
   "outputs": [
    {
     "data": {
      "image/png": "[encoded data removed]",
      "text/plain": [
       "<Figure size 432x288 with 1 Axes>"
      ]
     },
     "metadata": {
      "needs_background": "light"
     },
     "output_type": "display_data"
    }
   ],
   "source": [
    "train.groupby(\"weekday\")[\"totalClapCount\"].agg(\"mean\").sort_values().plot.bar();"
   ]
  },
  {
   "cell_type": "markdown",
   "metadata": {},
   "source": [
    "Comparing the weekday distribution of train and test set, we make the observation that much less articles from the test set were posted on a weekend. This is a contrast we would miss, would we not use this feature."
   ]
  },
  {
   "cell_type": "code",
   "execution_count": 507,
   "metadata": {
    "scrolled": true
   },
   "outputs": [
    {
     "data": {
      "image/png": "[encoded data removed]",
      "text/plain": [
       "<Figure size 1080x288 with 2 Axes>"
      ]
     },
     "metadata": {},
     "output_type": "display_data"
    }
   ],
   "source": [
    "plt.subplots(1, 2, figsize=(15, 4))\n",
    "plt.subplot(1, 2, 1)\n",
    "plt.title(\"Train Distribution\")\n",
    "pd.Series(train.weekday.value_counts()/len(train)).sort_values().plot.bar();\n",
    "plt.subplot(1, 2, 2)\n",
    "plt.title(\"Test Distribution\")\n",
    "pd.Series(test.weekday.value_counts()/len(test)).sort_values().plot.bar();"
   ]
  },
  {
   "cell_type": "markdown",
   "metadata": {},
   "source": [
    "We conduct the same analysis for the month attribute and make a similar observation:"
   ]
  },
  {
   "cell_type": "code",
   "execution_count": 1017,
   "metadata": {
    "scrolled": true
   },
   "outputs": [
    {
     "data": {
      "image/png": "[encoded data removed]",
      "text/plain": [
       "<Figure size 432x288 with 1 Axes>"
      ]
     },
     "metadata": {
      "needs_background": "light"
     },
     "output_type": "display_data"
    }
   ],
   "source": [
    "train.groupby(\"month\")[\"totalClapCount\"].agg(\"mean\").sort_values().plot.bar();"
   ]
  },
  {
   "cell_type": "code",
   "execution_count": 1014,
   "metadata": {},
   "outputs": [
    {
     "data": {
      "image/png": "[encoded data removed]",
      "text/plain": [
       "<Figure size 1080x288 with 2 Axes>"
      ]
     },
     "metadata": {
      "needs_background": "light"
     },
     "output_type": "display_data"
    }
   ],
   "source": [
    "plt.subplots(1, 2, figsize=(15, 4))\n",
    "plt.subplot(1, 2, 1)\n",
    "plt.title(\"Train Distribution\")\n",
    "pd.Series(train.month.value_counts()/len(train)).plot.bar();\n",
    "plt.subplot(1, 2, 2)\n",
    "plt.title(\"Test Distribution\")\n",
    "pd.Series(test.month.value_counts()/len(test)).plot.bar();"
   ]
  },
  {
   "cell_type": "markdown",
   "metadata": {},
   "source": [
    "The year category behaves a little differently, since there are many more year categories present in the test data. Since a model would be unable to properly learn how a year earlier than 2017 affects the clap count, it is questionable whether this feature is a strong predictor."
   ]
  },
  {
   "cell_type": "code",
   "execution_count": 509,
   "metadata": {
    "scrolled": true
   },
   "outputs": [
    {
     "data": {
      "image/png": "[encoded data removed]",
      "text/plain": [
       "<Figure size 1080x288 with 2 Axes>"
      ]
     },
     "metadata": {},
     "output_type": "display_data"
    }
   ],
   "source": [
    "plt.subplots(1, 2, figsize=(15, 4))\n",
    "plt.subplot(1, 2, 1)\n",
    "plt.title(\"Train Distribution\")\n",
    "pd.Series(train.year.value_counts()).plot.bar();\n",
    "plt.subplot(1, 2, 2)\n",
    "plt.title(\"Test Distribution\")\n",
    "pd.Series(test.year.value_counts()).plot.bar();"
   ]
  },
  {
   "cell_type": "markdown",
   "metadata": {},
   "source": [
    "---\n",
    "### 4.4 Title Length\n",
    "We introduce another feature with the word count of the article's titles. Interestingly, most of the articles in both data sets have between 4 and 6 words, but the most successful title lenghts are 6-9 words long. The high average value for length 13 is most likely caused by a combination of few articles having such a long title, and one article with a very high clap count being one of them."
   ]
  },
  {
   "cell_type": "code",
   "execution_count": 1038,
   "metadata": {},
   "outputs": [],
   "source": [
    "train[\"titleLength\"] = train.title_clean.apply(lambda x: len(str(x).split()))\n",
    "test[\"titleLength\"] = test.title_clean.apply(lambda x: len(str(x).split()))"
   ]
  },
  {
   "cell_type": "code",
   "execution_count": 1063,
   "metadata": {
    "scrolled": true
   },
   "outputs": [
    {
     "data": {
      "image/png": "[encoded data removed]",
      "text/plain": [
       "<Figure size 1080x288 with 2 Axes>"
      ]
     },
     "metadata": {
      "needs_background": "light"
     },
     "output_type": "display_data"
    }
   ],
   "source": [
    "plt.subplots(1, 2, figsize=(15, 4))\n",
    "plt.subplot(1, 2, 1)\n",
    "plt.title(\"Train Distribution\")\n",
    "plt.xlabel(\"Title Length\")\n",
    "train.titleLength.plot.hist(bins=15);\n",
    "plt.subplot(1, 2, 2)\n",
    "plt.title(\"Test Distribution\")\n",
    "plt.xlabel(\"Title Length\")\n",
    "test.titleLength.plot.hist(bins=15);"
   ]
  },
  {
   "cell_type": "code",
   "execution_count": 1046,
   "metadata": {},
   "outputs": [
    {
     "data": {
      "image/png": "[encoded data removed]",
      "text/plain": [
       "<Figure size 432x288 with 1 Axes>"
      ]
     },
     "metadata": {
      "needs_background": "light"
     },
     "output_type": "display_data"
    }
   ],
   "source": [
    "train.groupby(\"titleLength\")[\"totalClapCount\"].agg(\"mean\").sort_values(ascending=False).plot.bar();"
   ]
  },
  {
   "cell_type": "markdown",
   "metadata": {},
   "source": [
    "---\n",
    "### 4.5 Author\n",
    "In this section, we try determine whether the author feature can be of value for us. This feature is not very clean, so we need to pull some of the authors from the publication details:"
   ]
  },
  {
   "cell_type": "code",
   "execution_count": 1079,
   "metadata": {},
   "outputs": [
    {
     "data": {
      "text/plain": [
       "index\n",
       "0      Daniel Jeffries\n",
       "1        Noam Levenson\n",
       "2      Daniel Jeffries\n",
       "5       Haseeb Qureshi\n",
       "7         William Belk\n",
       "            ...       \n",
       "598        Jun 9, 2016\n",
       "599       Jun 10, 2016\n",
       "600             Mar-19\n",
       "601       Mar 18, 2016\n",
       "602       Jan 11, 2018\n",
       "Name: author, Length: 514, dtype: object"
      ]
     },
     "execution_count": 1079,
     "metadata": {},
     "output_type": "execute_result"
    }
   ],
   "source": [
    "test.author"
   ]
  },
  {
   "cell_type": "code",
   "execution_count": 1080,
   "metadata": {},
   "outputs": [],
   "source": [
    "authors_from_details = []\n",
    "for t in test.PublicationDetails:\n",
    "    author = re.findall(r\".+?(?=\\sin\\s)\", t)\n",
    "    if not author:\n",
    "        author = re.findall(r\".+?(?=;)\", t)\n",
    "    if not author:\n",
    "        author = re.findall(r\".+?(?=Jan|Feb|Mar|Apr|May|Jun|Jul|Aug|Sep|Oct|Nov|Dec)\", t)\n",
    "    if not author:\n",
    "        authors_from_details.append(\"N/A\")\n",
    "    else:\n",
    "        authors_from_details.append(author.pop())"
   ]
  },
  {
   "cell_type": "code",
   "execution_count": 1081,
   "metadata": {},
   "outputs": [],
   "source": [
    "test.author = authors_from_details"
   ]
  },
  {
   "cell_type": "code",
   "execution_count": 1083,
   "metadata": {},
   "outputs": [
    {
     "data": {
      "text/plain": [
       "index\n",
       "0      Daniel Jeffries\n",
       "1        Noam Levenson\n",
       "2      Daniel Jeffries\n",
       "5       Haseeb Qureshi\n",
       "7         William Belk\n",
       "            ...       \n",
       "598         Tim Romero\n",
       "599       Product Hunt\n",
       "600       Joe Procopio\n",
       "601           Winerist\n",
       "602       Aytekin Tank\n",
       "Name: author, Length: 514, dtype: object"
      ]
     },
     "execution_count": 1083,
     "metadata": {},
     "output_type": "execute_result"
    }
   ],
   "source": [
    "test.author"
   ]
  },
  {
   "cell_type": "markdown",
   "metadata": {},
   "source": [
    "The majority of articles in the test set are written by the Netflix Technology Blog and TE-FOOD."
   ]
  },
  {
   "cell_type": "code",
   "execution_count": 1082,
   "metadata": {},
   "outputs": [
    {
     "data": {
      "image/png": "[encoded data removed]",
      "text/plain": [
       "<Figure size 432x288 with 1 Axes>"
      ]
     },
     "metadata": {
      "needs_background": "light"
     },
     "output_type": "display_data"
    }
   ],
   "source": [
    "test.author.value_counts()[:20].plot.barh();"
   ]
  },
  {
   "cell_type": "markdown",
   "metadata": {},
   "source": [
    "In the train set, however, this looks entirely different. In fact, if we calculate how many rows of the train set contain authors present in the test set, we find a meager 244.\n",
    "\n",
    "We therefore decide against using the author as a feature for modelling."
   ]
  },
  {
   "cell_type": "code",
   "execution_count": 1099,
   "metadata": {},
   "outputs": [
    {
     "data": {
      "image/png": "[encoded data removed]",
      "text/plain": [
       "<Figure size 432x288 with 1 Axes>"
      ]
     },
     "metadata": {
      "needs_background": "light"
     },
     "output_type": "display_data"
    }
   ],
   "source": [
    "train.author.value_counts()[:20].plot.barh();"
   ]
  },
  {
   "cell_type": "code",
   "execution_count": 1101,
   "metadata": {},
   "outputs": [
    {
     "name": "stdout",
     "output_type": "stream",
     "text": [
      "Out of all the rows in the train set, only 244 contain an author from the test set.\n"
     ]
    }
   ],
   "source": [
    "rows_covered = 0\n",
    "for a in test.author.unique():\n",
    "    where = train.index[np.where(train.author.values == a)[0]]\n",
    "    rows_covered += len(where)\n",
    "    \n",
    "print(f\"Out of all the rows in the train set, only {rows_covered} contain an author from the test set.\")"
   ]
  },
  {
   "cell_type": "markdown",
   "metadata": {},
   "source": [
    "---\n",
    "### 4.6 Most Used Words\n",
    "Lastly, we want to analyze the actual text features for keywords that predict a higher clap count by themselves.\n",
    "\n",
    "We first look at the most used words in the **top 5% articles** of the train data with respect to clap count."
   ]
  },
  {
   "cell_type": "code",
   "execution_count": 441,
   "metadata": {},
   "outputs": [],
   "source": [
    "topfiveperc_value = np.percentile(train.totalClapCount,95,interpolation=\"higher\")\n",
    "topfiveperc_ix = train.index[np.where(train.totalClapCount>topfiveperc_value)]"
   ]
  },
  {
   "cell_type": "code",
   "execution_count": 442,
   "metadata": {
    "scrolled": true
   },
   "outputs": [
    {
     "data": {
      "image/png": "[encoded data removed]",
      "text/plain": [
       "<Figure size 576x396 with 1 Axes>"
      ]
     },
     "metadata": {},
     "output_type": "display_data"
    }
   ],
   "source": [
    "split_it = train.text_clean[topfiveperc_ix].apply(lambda x: Counter(x.split()).most_common())\n",
    "\n",
    "wordcounts = {}\n",
    "for ele in split_it:\n",
    "    for word, count in ele:\n",
    "        if word in wordcounts.keys():\n",
    "            wordcounts[word] += count\n",
    "        else:\n",
    "            wordcounts[word] = count\n",
    "            \n",
    "counts_df = pd.DataFrame({\"word\": list(wordcounts.keys()), \"count\": list(wordcounts.values())})\n",
    "counts_df.sort_values(by=\"count\",ascending=False)[:20].plot.barh(x=\"word\", title=\"Top 5% Articles\");"
   ]
  },
  {
   "cell_type": "markdown",
   "metadata": {},
   "source": [
    "Now, we compare this with the word count distribution of the **total** data:"
   ]
  },
  {
   "cell_type": "code",
   "execution_count": 443,
   "metadata": {},
   "outputs": [
    {
     "data": {
      "image/png": "[encoded data removed]",
      "text/plain": [
       "<Figure size 576x396 with 1 Axes>"
      ]
     },
     "metadata": {},
     "output_type": "display_data"
    }
   ],
   "source": [
    "split_it = train.text_clean.apply(lambda x: Counter(x.split()).most_common())\n",
    "\n",
    "wordcounts = {}\n",
    "for ele in split_it:\n",
    "    for word, count in ele:\n",
    "        if word in wordcounts.keys():\n",
    "            wordcounts[word] += count\n",
    "        else:\n",
    "            wordcounts[word] = count\n",
    "            \n",
    "counts_df = pd.DataFrame({\"word\": list(wordcounts.keys()), \"count\": list(wordcounts.values())})\n",
    "counts_df.sort_values(by=\"count\",ascending=False)[:20].plot.barh(x=\"word\", title=\"Complete Data\");"
   ]
  },
  {
   "cell_type": "markdown",
   "metadata": {},
   "source": [
    "We compare this with the word usage of the **bottom 5% articles**:"
   ]
  },
  {
   "cell_type": "code",
   "execution_count": 444,
   "metadata": {},
   "outputs": [],
   "source": [
    "bottomfiveperc_value = np.percentile(train.totalClapCount,5,interpolation=\"lower\")\n",
    "bottomfiveperc_ix = train.index[np.where(train.totalClapCount<=bottomfiveperc_value)]"
   ]
  },
  {
   "cell_type": "code",
   "execution_count": 445,
   "metadata": {
    "scrolled": true
   },
   "outputs": [
    {
     "data": {
      "image/png": "[encoded data removed]",
      "text/plain": [
       "<Figure size 576x396 with 1 Axes>"
      ]
     },
     "metadata": {},
     "output_type": "display_data"
    }
   ],
   "source": [
    "split_it = train.text_clean[bottomfiveperc_ix].apply(lambda x: Counter(x.split()).most_common())\n",
    "\n",
    "wordcounts = {}\n",
    "for ele in split_it:\n",
    "    for word, count in ele:\n",
    "        if word in wordcounts.keys():\n",
    "            wordcounts[word] += count\n",
    "        else:\n",
    "            wordcounts[word] = count\n",
    "            \n",
    "counts_df = pd.DataFrame({\"word\": list(wordcounts.keys()), \"count\": list(wordcounts.values())})\n",
    "counts_df.sort_values(by=\"count\",ascending=False)[:20].plot.barh(x=\"word\", title=\"Bottom 5% Articles\");"
   ]
  },
  {
   "cell_type": "markdown",
   "metadata": {},
   "source": [
    "The one major difference we can make out is the lowering relative popularity of the word \"ai\" the higher an article scores. We will rely on our LSTM to catch on to this connection."
   ]
  },
  {
   "cell_type": "markdown",
   "metadata": {},
   "source": [
    "---\n",
    "## 5. Model Selection\n",
    "\n",
    "### 5.1 Data Preparation"
   ]
  },
  {
   "cell_type": "markdown",
   "metadata": {},
   "source": [
    "Before we proceed with benchmarking and modeling, we need to make sure that our text features are in appropriate format to be fed into NLP algorithms. Additionally, we need to load our pre-trained embeddings and make some changes to the text to be able to unlock their full potential.\n",
    "\n",
    "For our embeddings, we decide to go with 100-dimensional wiki2vec embeddings from https://wikipedia2vec.github.io/wikipedia2vec/pretrained/\n",
    "\n",
    "These have the advantage of containing ENTITY-entries, which solve the problem of [\"big\", \"data\"] versus [\"Big Data\"]."
   ]
  },
  {
   "cell_type": "code",
   "execution_count": 3,
   "metadata": {},
   "outputs": [
    {
     "name": "stdout",
     "output_type": "stream",
     "text": [
      "Loaded wiki2vec embeddings in 522.3371086120605 seconds.\n"
     ]
    }
   ],
   "source": [
    "# Load wiki2vec embeddings:\n",
    "start = time.time()\n",
    "wiki2vec = KeyedVectors.load_word2vec_format('Data/enwiki_20180420_100d.txt')\n",
    "end = time.time()\n",
    "print(f\"Loaded wiki2vec embeddings in {end - start} seconds.\")"
   ]
  },
  {
   "cell_type": "markdown",
   "metadata": {},
   "source": [
    "Since the articles mostly cover Machine Learning, AI, etc., we transform some of the most used word constructs (see section 3.6) into entity tokens compatible with our embeddings. This list is of course not exhaustive, but considering that the word vector for \"ai\" returns japenese words (presumably because \"ai\" means \"love\" in japanese), and how often such words are used in our text features, we believe that this will already boost performance considerably."
   ]
  },
  {
   "cell_type": "code",
   "execution_count": 9,
   "metadata": {},
   "outputs": [
    {
     "data": {
      "text/plain": [
       "[('chuseyo', 0.7419208288192749),\n",
       " ('donoshiro', 0.7339354157447815),\n",
       " ('shitteita', 0.723736047744751),\n",
       " ('chắc', 0.7184919714927673),\n",
       " ('champandard', 0.7161723971366882),\n",
       " ('yobundaze', 0.7159942388534546),\n",
       " ('tegotae', 0.7130879759788513),\n",
       " ('oboete', 0.7121416330337524),\n",
       " ('motenashite', 0.70948326587677),\n",
       " ('yobunda', 0.707751452922821)]"
      ]
     },
     "execution_count": 9,
     "metadata": {},
     "output_type": "execute_result"
    }
   ],
   "source": [
    "wiki2vec.most_similar(\"ai\")"
   ]
  },
  {
   "cell_type": "code",
   "execution_count": 10,
   "metadata": {},
   "outputs": [
    {
     "data": {
      "text/plain": [
       "[('ENTITY/Artificial_general_intelligence', 0.7941759824752808),\n",
       " ('ENTITY/Outline_of_artificial_intelligence', 0.7715780735015869),\n",
       " ('ENTITY/Artificial_intelligence_in_video_games', 0.7647756338119507),\n",
       " ('ENTITY/Weak_AI', 0.7507199645042419),\n",
       " ('ENTITY/Machine_learning', 0.7487928867340088),\n",
       " ('ENTITY/Glossary_of_artificial_intelligence', 0.7407300472259521),\n",
       " ('ENTITY/Cognitive_robotics', 0.7399426698684692),\n",
       " ('ENTITY/Hybrid_intelligent_system', 0.7390654683113098),\n",
       " ('ENTITY/Turing_test', 0.7375492453575134),\n",
       " ('ENTITY/Multi-agent_system', 0.7318432331085205)]"
      ]
     },
     "execution_count": 10,
     "metadata": {},
     "output_type": "execute_result"
    }
   ],
   "source": [
    "wiki2vec.most_similar(\"ENTITY/Artificial_intelligence\")"
   ]
  },
  {
   "cell_type": "code",
   "execution_count": 69,
   "metadata": {},
   "outputs": [],
   "source": [
    "def transform_entities(text):\n",
    "    text = re.sub(r\"\\bdata science\\b\", \"ENTITY/Data_science\", text)\n",
    "    text = re.sub(r\"\\bdeep learn\\b\", \"ENTITY/Deep_learning\", text)\n",
    "    text = re.sub(r\"\\bbig data\\b\", \"ENTITY/Big_data\", text)\n",
    "    text = re.sub(r\"\\bgoogle\\b\", \"ENTITY/Google\", text)\n",
    "    text = re.sub(r\"\\bdata analysis\\b\", \"ENTITY/Data_analysis\", text)\n",
    "    text = re.sub(r\"\\bartificial intelligence\\b\", \"ENTITY/Artificial_intelligence\", text)\n",
    "    text = re.sub(r\"\\bai\\b\", \"ENTITY/Artificial_intelligence\", text)\n",
    "    text = re.sub(r\"\\bmachine learning\\b\", \"ENTITY/Machine_learning\", text)\n",
    "    text = re.sub(r\"\\bmachine learn\\b\", \"ENTITY/Machine_learning\", text)\n",
    "    text = re.sub(r\"\\bml\\b\", \"ENTITY/Machine_learning\", text)\n",
    "    text = re.sub(r\"\\btf\\b\", \"ENTITY/TensorFlow\", text)\n",
    "    text = re.sub(r\"\\btensorflow\\b\", \"ENTITY/TensorFlow\", text)\n",
    "    text = re.sub(r\"\\bvm\\b\", \"ENTITY/Virtual_machine\", text)\n",
    "    text = re.sub(r\"\\bar\\b\", \"ENTITY/Augmented_reality\", text)\n",
    "    text = re.sub(r\"\\bfb\\b\", \"ENTITY/Facebook\", text)\n",
    "    text = re.sub(r\"\\biot\\b\", \"ENTITY/Internet_of_things\", text)\n",
    "    text = re.sub(r\"\\bblockchain\\b\", \"ENTITY/Blockchain\", text)\n",
    "    # This has to be last:\n",
    "    text = re.sub(r\"\\bdata\\b\", \"ENTITY/Data\", text)\n",
    "    return text"
   ]
  },
  {
   "cell_type": "code",
   "execution_count": 1127,
   "metadata": {},
   "outputs": [],
   "source": [
    "train[\"title_clean\"] = train.title_clean.apply(transform_entities)\n",
    "train[\"text_clean\"] = train.text_clean.apply(transform_entities)"
   ]
  },
  {
   "cell_type": "code",
   "execution_count": 1128,
   "metadata": {},
   "outputs": [],
   "source": [
    "test[\"title_clean\"] = test.title_clean.apply(transform_entities)\n",
    "test[\"text_clean\"] = test.text_clean.apply(transform_entities)"
   ]
  },
  {
   "cell_type": "markdown",
   "metadata": {},
   "source": [
    "---\n",
    "After this is done, we prepare our train and test sets which we will be using to measure the performance of the different NLP models we employ."
   ]
  },
  {
   "cell_type": "code",
   "execution_count": 447,
   "metadata": {},
   "outputs": [],
   "source": [
    "X_train_nlp, X_test_nlp, y_train_nlp, y_test_nlp = train_test_split(train[['title_clean', 'text_clean', \"imageCount\", \"readingTime\", \"titleLength\", \"Responses\", \"month\", \"weekday\", \"readingEase\"]], train['totalClapCount'], test_size=0.20, random_state=111)\n",
    "X_train_nlp = pd.get_dummies(X_train_nlp, columns=[\"month\",\"weekday\"])\n",
    "X_test_nlp = pd.get_dummies(X_test_nlp, columns=[\"month\",\"weekday\"])"
   ]
  },
  {
   "cell_type": "markdown",
   "metadata": {},
   "source": [
    "Tokenized objects and embedding matrices are initialized separately for title and text. For the text, we truncate the articles at 400 words since excessively long sequences can make an LSTM run into trouble. For the titles, we decide on a maximum length of 20 words, which lets us use most of the titles without any truncation.\n",
    "\n",
    "It is important to exclude the filters for \"/\" and \"_\" from the tokenizer, and to not transform the sequences to lower case, since this would destroy the ENTITY-constructs we just built.\n",
    "\n",
    "The texts are all alphanumeric and in lower case anyway because of our cleaning loop."
   ]
  },
  {
   "cell_type": "code",
   "execution_count": 448,
   "metadata": {},
   "outputs": [
    {
     "name": "stdout",
     "output_type": "stream",
     "text": [
      "The longest article of the training set has 12810 words.\n",
      "Created embedding matrix of shape (184259, 100)\n",
      "Encountered 68078 out-of-vocabulary words.\n"
     ]
    }
   ],
   "source": [
    "tokenizer_text = Tokenizer(oov_token=1, filters='!\"#$%&()*+,-.:;<=>?@[\\\\]^`{|}~\\t\\n', lower=False)\n",
    "tokenizer_text.fit_on_texts(X_train_nlp.text_clean)\n",
    "NUM_WORDS_TEXT = len(tokenizer_text.word_index) + 1\n",
    "\n",
    "X_tr_int_text = tokenizer_text.texts_to_sequences(X_train_nlp.text_clean)\n",
    "max_article_length = max([len(article) for article in X_tr_int_text])\n",
    "print('The longest article of the training set has {} words.'.format(max_article_length))\n",
    "\n",
    "# Upper bound of the article length for padding\n",
    "MAX_TEXT_LENGTH = 400\n",
    "X_tr_int_pad_text = pad_sequences(X_tr_int_text, MAX_TEXT_LENGTH)\n",
    "\n",
    "# Encode and pad the test data\n",
    "X_ts_int_text = tokenizer_text.texts_to_sequences(X_test_nlp.text_clean)\n",
    "X_ts_int_pad_text = pad_sequences(X_ts_int_text, MAX_TEXT_LENGTH)\n",
    "\n",
    "wiki_weights_text, _ = get_embedding_matrix(tokenizer_text, wiki2vec, NUM_WORDS_TEXT)"
   ]
  },
  {
   "cell_type": "code",
   "execution_count": 449,
   "metadata": {
    "scrolled": true
   },
   "outputs": [
    {
     "name": "stdout",
     "output_type": "stream",
     "text": [
      "The longest title of the training set has 15 words.\n",
      "Created embedding matrix of shape (19830, 100)\n",
      "Encountered 3070 out-of-vocabulary words.\n"
     ]
    }
   ],
   "source": [
    "tokenizer_title = Tokenizer(oov_token=1, filters='!\"#$%&()*+,-.:;<=>?@[\\\\]^`{|}~\\t\\n', lower=False)\n",
    "tokenizer_title.fit_on_texts(X_train_nlp.title_clean)\n",
    "NUM_WORDS_TITLE = len(tokenizer_title.word_index) + 1\n",
    "\n",
    "X_tr_int_title = tokenizer_title.texts_to_sequences(X_train_nlp.title_clean)\n",
    "max_article_length = max([len(article) for article in X_tr_int_title])\n",
    "print('The longest title of the training set has {} words.'.format(max_article_length))\n",
    "\n",
    "# Upper bound of the article length for padding\n",
    "MAX_TITLE_LENGTH = 20\n",
    "X_tr_int_pad_title = pad_sequences(X_tr_int_title, MAX_TITLE_LENGTH)\n",
    "\n",
    "# Encode and pad the test data\n",
    "X_ts_int_title = tokenizer_title.texts_to_sequences(X_test_nlp.title_clean)\n",
    "X_ts_int_pad_title = pad_sequences(X_ts_int_title, MAX_TITLE_LENGTH)\n",
    "\n",
    "wiki_weights_title, _ = get_embedding_matrix(tokenizer_title, wiki2vec, NUM_WORDS_TITLE)"
   ]
  },
  {
   "cell_type": "markdown",
   "metadata": {},
   "source": [
    "For both the texts and the titles, we find a fair share of out-of-vocabulary words. While the most frequent words are likely to be included, this problem can be mitigated a little by making our pre-trained embeddings trainable."
   ]
  },
  {
   "cell_type": "markdown",
   "metadata": {},
   "source": [
    "\n",
    "### 5.2 Benchmark Models"
   ]
  },
  {
   "cell_type": "markdown",
   "metadata": {},
   "source": [
    "To be able to judge the performance of our final model, we introduce some more naive models in order to have a couple of benchmark performance thresholds.\n",
    "\n",
    "1. A linear regression on non-text features\n",
    "2. A Random Forest on non-text features\n",
    "3. An xgb model on non-text features\n",
    "4. A basic GRU with self-trained embeddings on text features"
   ]
  },
  {
   "cell_type": "markdown",
   "metadata": {},
   "source": [
    "#### 5.2.1 Linear Regression"
   ]
  },
  {
   "cell_type": "code",
   "execution_count": 519,
   "metadata": {},
   "outputs": [
    {
     "name": "stdout",
     "output_type": "stream",
     "text": [
      "R2: 0.8109691126338229\n",
      "MSE: 772127.6433689402\n",
      "MAE: 139.30276260404844\n"
     ]
    }
   ],
   "source": [
    "\n",
    "X_train, X_test, y_train, y_test = train_test_split(train[[\"imageCount\", \"readingTime\", \"titleLength\", \"Responses\", \"month\", \"weekday\", \"readingEase\"]], train['totalClapCount'], test_size=0.20, random_state=111)\n",
    "X_train = pd.get_dummies(X_train, columns=[\"month\",\"weekday\"])\n",
    "X_test = pd.get_dummies(X_test, columns=[\"month\",\"weekday\"])\n",
    "\n",
    "regression = LinearRegression(normalize=True)\n",
    "regression.fit(X_train, y_train)\n",
    "\n",
    "prediction = pd.DataFrame({\"Prediction\": regression.predict(X_test), \"Actual\": y_test})\n",
    "\n",
    "print(f\"R2: {regression.score(X_test, y_test)}\")\n",
    "print(f\"MSE: {mean_squared_error(prediction.Actual, prediction.Prediction)}\")\n",
    "print(f\"MAE: {mean_absolute_error(prediction.Actual, prediction.Prediction)}\")\n"
   ]
  },
  {
   "cell_type": "markdown",
   "metadata": {},
   "source": [
    "This is already a very nice result. We perform 10-fold cross-validation to make sure it is not a lucky sample:"
   ]
  },
  {
   "cell_type": "code",
   "execution_count": 520,
   "metadata": {},
   "outputs": [
    {
     "name": "stdout",
     "output_type": "stream",
     "text": [
      "MSE: 1119294.8724935956\n",
      "MAE: 147.96296778038445\n"
     ]
    }
   ],
   "source": [
    "X = train[[\"imageCount\", \"readingTime\", \"titleLength\", \"Responses\", \"month\", \"weekday\", \"readingEase\"]].copy()\n",
    "X = pd.get_dummies(X, columns=[\"month\",\"weekday\"])\n",
    "y = train['totalClapCount'].copy()\n",
    "\n",
    "kf = KFold(n_splits=10, shuffle=True, random_state=111)\n",
    "xgb_predictions = pd.DataFrame(columns=[\"pred\", \"actual\"], index=X.index)\n",
    "xgb_predictions[\"actual\"] = y\n",
    "\n",
    "for train_index, test_index in kf.split(X):\n",
    "    X_train, X_test = X.loc[X.index[train_index], :], X.loc[X.index[test_index], :]\n",
    "    y_train, y_test = y[y.index[train_index]], y[y.index[test_index]]\n",
    "    \n",
    "    regression = LinearRegression(normalize=True)\n",
    "    regression.fit(X_train, y_train)\n",
    "\n",
    "    prediction = pd.DataFrame({\"Prediction\": regression.predict(X_test), \"Actual\": y_test})\n",
    "    \n",
    "print(f\"MSE: {mean_squared_error(prediction.Prediction, prediction.Actual)}\")\n",
    "print(f\"MAE: {mean_absolute_error(prediction.Prediction, prediction.Actual)}\")  "
   ]
  },
  {
   "cell_type": "markdown",
   "metadata": {},
   "source": [
    "The performance got worse but is still good."
   ]
  },
  {
   "cell_type": "markdown",
   "metadata": {},
   "source": [
    "#### 5.2.2 Random Forest"
   ]
  },
  {
   "cell_type": "code",
   "execution_count": 521,
   "metadata": {
    "scrolled": true
   },
   "outputs": [
    {
     "name": "stdout",
     "output_type": "stream",
     "text": [
      "MSE: 1983383.3408722386\n",
      "MAE: 148.7260903140371\n"
     ]
    }
   ],
   "source": [
    "\n",
    "X_train, X_test, y_train, y_test = train_test_split(train[[\"imageCount\", \"readingTime\", \"titleLength\", \"Responses\", \"month\", \"weekday\", \"readingEase\"]], train['totalClapCount'], test_size=0.20, random_state=111)\n",
    "X_train = pd.get_dummies(X_train, columns=[\"month\",\"weekday\"])\n",
    "X_test = pd.get_dummies(X_test, columns=[\"month\",\"weekday\"])\n",
    "\n",
    "rf = RandomForestRegressor(n_estimators=1000, max_depth = None, max_samples = 0.1, random_state=111, verbose=0, n_jobs=10)\n",
    "rf.fit(X_train, y_train)\n",
    "\n",
    "prediction = pd.DataFrame({\"Prediction\": rf.predict(X_test), \"Actual\": y_test})\n",
    "\n",
    "print(f\"MSE: {mean_squared_error(prediction.Actual, prediction.Prediction)}\")\n",
    "print(f\"MAE: {mean_absolute_error(prediction.Actual, prediction.Prediction)}\")"
   ]
  },
  {
   "cell_type": "markdown",
   "metadata": {},
   "source": [
    "The Random Forest on the other hand performs worse on this split than the linear regression concerning both MAE and MSE. The high MSE is likely from the Random Forest's inability to predict very high values in this particular case:"
   ]
  },
  {
   "cell_type": "code",
   "execution_count": 275,
   "metadata": {},
   "outputs": [
    {
     "data": {
      "image/png": "[encoded data removed]",
      "text/plain": [
       "<Figure size 1080x288 with 2 Axes>"
      ]
     },
     "metadata": {},
     "output_type": "display_data"
    }
   ],
   "source": [
    "plt.subplots(1, 2, figsize=(15, 4))\n",
    "plt.subplot(1, 2, 1)\n",
    "plt.title(\"Prediction\")\n",
    "prediction.Prediction.plot.box();\n",
    "plt.subplot(1, 2, 2)\n",
    "plt.title(\"Actual\")\n",
    "prediction.Actual.plot.box();"
   ]
  },
  {
   "cell_type": "markdown",
   "metadata": {},
   "source": [
    "#### 5.2.3 XGBoost"
   ]
  },
  {
   "cell_type": "code",
   "execution_count": 301,
   "metadata": {},
   "outputs": [
    {
     "name": "stdout",
     "output_type": "stream",
     "text": [
      "MSE: 692595.4650900621\n",
      "MAE: 138.31060056936278\n"
     ]
    }
   ],
   "source": [
    "X_train, X_test, y_train, y_test = train_test_split(train[[\"imageCount\", \"readingTime\", \"titleLength\", \"Responses\", \"month\", \"weekday\", \"readingEase\"]], train['totalClapCount'], test_size=0.20, random_state=111)\n",
    "X_train = pd.get_dummies(X_train, columns=[\"month\",\"weekday\"])\n",
    "X_test = pd.get_dummies(X_test, columns=[\"month\",\"weekday\"])\n",
    "\n",
    "xg_reg = xgb.XGBRegressor(objective ='reg:squarederror', colsample_bytree = 1, learning_rate = 0.1,\n",
    "                max_depth=2, alpha=20, n_estimators = 600)\n",
    "xg_reg.fit(X_train,y_train)\n",
    "\n",
    "prediction = pd.DataFrame({\"Prediction\": xg_reg.predict(X_test), \"Actual\": y_test})\n",
    "\n",
    "print(f\"MSE: {mean_squared_error(prediction.Actual, prediction.Prediction)}\")\n",
    "print(f\"MAE: {mean_absolute_error(prediction.Actual, prediction.Prediction)}\")"
   ]
  },
  {
   "cell_type": "markdown",
   "metadata": {},
   "source": [
    "The XGBoost model's performance on this split is even better than the linear regression. We also perform 10-fold cross-validation here to test whether this result is legitimate:"
   ]
  },
  {
   "cell_type": "code",
   "execution_count": 302,
   "metadata": {
    "scrolled": true
   },
   "outputs": [
    {
     "name": "stdout",
     "output_type": "stream",
     "text": [
      "MSE: 1436947.1759841486\n",
      "MAE: 144.8958819542823\n"
     ]
    }
   ],
   "source": [
    "X = train[[\"imageCount\", \"readingTime\", \"titleLength\", \"Responses\", \"month\", \"weekday\", \"readingEase\"]].copy()\n",
    "X = pd.get_dummies(X, columns=[\"month\",\"weekday\"])\n",
    "y = train['totalClapCount'].copy()\n",
    "\n",
    "kf = KFold(n_splits=10, shuffle=True, random_state=111)\n",
    "xgb_predictions = pd.DataFrame(columns=[\"pred\", \"actual\"], index=X.index)\n",
    "xgb_predictions[\"actual\"] = y\n",
    "\n",
    "for train_index, test_index in kf.split(X):\n",
    "    X_train, X_test = X.loc[X.index[train_index], :], X.loc[X.index[test_index], :]\n",
    "    y_train, y_test = y[y.index[train_index]], y[y.index[test_index]]\n",
    "    \n",
    "    xg_reg = xgb.XGBRegressor(objective ='reg:squarederror', colsample_bytree=1, learning_rate=0.1,\n",
    "                max_depth=2, alpha=20, n_estimators = 600)\n",
    "    xg_reg.fit(X_train,y_train)\n",
    "\n",
    "    xgb_predictions.loc[X.index[test_index], \"pred\"] = xg_reg.predict(X_test)\n",
    "    \n",
    "print(f\"MSE: {mean_squared_error(xgb_predictions.pred, xgb_predictions.actual)}\")\n",
    "print(f\"MAE: {mean_absolute_error(xgb_predictions.pred, xgb_predictions.actual)}\")  \n"
   ]
  },
  {
   "cell_type": "markdown",
   "metadata": {},
   "source": [
    "The performance decreased by quite a lot, but the MAE is still the best. MSE-wise, it seems like the linear regression is the winning benchmark. This gives us a baseline for what to expect from non-text features.\n",
    "\n",
    "The comparably low MSE of the linear regression is quite interesting. Since there exists an almost linear connection between clap count and responses, the linear regression is likely to make a good prediction on articles with high clap counts. However, this comes at the expense of making many small errors at the lower clap count level, exemplified by the relatively high MAE.\n",
    "\n",
    "This leads us to an important question: Which loss function should actually be used? MSE is not very robust to outliers, which is why non-linear models will struggle when encountering these examples. In order to correctly predict high clap scores, it is likely that the prediction of articles with lower clap counts (which the train set consists mostly of) is hurt in the process. Furthermore, the occurence of such outliers is so rare that we cannot justify the high impact they have on our loss function.\\\n",
    "We therefore make the decision to not use MSE loss for the following models."
   ]
  },
  {
   "cell_type": "markdown",
   "metadata": {},
   "source": [
    "#### 5.2.4 Basic GRU"
   ]
  },
  {
   "cell_type": "markdown",
   "metadata": {},
   "source": [
    "To get a feeling of the text features' predictive power, we also employ a basic NLP model with self-training embeddings.\\\n",
    "The Keras Functional API allows us to effectively train a text and a title model at the same time.\n",
    "\n",
    "The number of hidden units in the GRUs is chosen to be 100, and the final activation functions are set to ReLU, since clap counts are never negative.\n",
    "\n",
    "As explained, we refrain from using mean squared error loss, since it would make training performance difficult to judge.\\\n",
    "Instead, we could use the mean absolute error, but this loss can have difficulties finding a minimum because of its shape, especially at the high batch size of 256.\n",
    "\n",
    "We therefore decide for log-cosh loss, which behaves very similarly to MAE, but does not suffer as much from the aforementioned negative property."
   ]
  },
  {
   "cell_type": "code",
   "execution_count": null,
   "metadata": {
    "scrolled": true
   },
   "outputs": [],
   "source": [
    "input_text = Input(shape=(400, ))\n",
    "input_title = Input(shape=(20, ))\n",
    "\n",
    "# Text\n",
    "text_embeddings = Embedding(input_dim=NUM_WORDS_TEXT, output_dim=100, input_length=400)(input_text)\n",
    "GRU_text = GRU(100)(text_embeddings)\n",
    "dense_text = Dense(1, activation=\"relu\")(GRU_text)\n",
    "\n",
    "# Title\n",
    "title_embeddings = Embedding(input_dim=NUM_WORDS_TITLE, output_dim=100, input_length=20)(input_title)\n",
    "GRU_title = GRU(100)(title_embeddings)\n",
    "dense_title = Dense(1, activation=\"relu\")(GRU_title)\n",
    "\n",
    "# Concatenate\n",
    "output_layer = concatenate([dense_text, dense_title])\n",
    "\n",
    "model = Model(inputs=[input_text, input_title], outputs=output_layer)\n",
    "model.compile(loss=losses.LogCosh(), optimizer=\"adam\", metrics=[\"mae\", \"mse\"])\n",
    "\n",
    "print(model.summary())\n",
    "callbacks = [EarlyStopping(monitor=\"val_loss\", patience=3, verbose=1, min_delta=0.1, restore_best_weights=True)]\n",
    "\n",
    "story = model.fit([X_tr_int_pad_text, X_tr_int_pad_title], y_train_nlp, epochs=10, verbose=1, batch_size=256, \n",
    "          validation_split=0.2, callbacks=callbacks)"
   ]
  },
  {
   "cell_type": "code",
   "execution_count": 25,
   "metadata": {},
   "outputs": [],
   "source": [
    "preds = pd.DataFrame(model.predict([X_ts_int_pad_text, X_ts_int_pad_title]), columns=[\"text_pred\", \"title_pred\"], index=y_test_nlp.index)\n",
    "preds[\"actual\"] = y_test_nlp"
   ]
  },
  {
   "cell_type": "code",
   "execution_count": 26,
   "metadata": {},
   "outputs": [
    {
     "name": "stdout",
     "output_type": "stream",
     "text": [
      "Text MSE: 4108188.4872280927\n",
      "Text MAE: 168.19954001656407\n",
      "\n",
      "Title MSE: 4111332.1781807323\n",
      "Title MAE: 169.37107981226526\n",
      "\n"
     ]
    }
   ],
   "source": [
    "print(f\"Text MSE: {mean_squared_error(preds.text_pred, preds.actual)}\")\n",
    "print(f\"Text MAE: {mean_absolute_error(preds.text_pred, preds.actual)}\\n\") \n",
    "print(f\"Title MSE: {mean_squared_error(preds.title_pred, preds.actual)}\")\n",
    "print(f\"Title MAE: {mean_absolute_error(preds.title_pred, preds.actual)}\\n\")"
   ]
  },
  {
   "cell_type": "markdown",
   "metadata": {},
   "source": [
    "It appears as if the text features don't have nearly as much predictive power as the non-text ones, which shapes our expectation for the NLP model selection. Furthermore, the model already starts overfitting at the second epoch. If this trend carries over to our final model, we should be prepared for using regularization techniques."
   ]
  },
  {
   "cell_type": "markdown",
   "metadata": {},
   "source": [
    "---\n",
    "### 5.3 RNN Architecture"
   ]
  },
  {
   "cell_type": "markdown",
   "metadata": {},
   "source": [
    "Since there are so many possibilities for an NLP model, we limit ourselves to trying 3 different model configurations on the text features. For all of them, we decide on some kind of LSTM architecture with pre-trained wiki2vec embeddings.\n",
    "\n",
    "1. LSTM\n",
    "2. Bidirectional LSTM\n",
    "3. Deep LSTM\n",
    "\n",
    "For all of these models, different hyperparameter configurations were tested. The number of hidden units inside the LSTM units does not seem to make a big difference, so they are left at 100, same as with the benchmark GRU."
   ]
  },
  {
   "cell_type": "markdown",
   "metadata": {},
   "source": [
    "#### 5.3.1 LSTM\n",
    "\n",
    "We start with a simple LSTM and fine-tuneable pre-trained embeddings to compare performances."
   ]
  },
  {
   "cell_type": "code",
   "execution_count": null,
   "metadata": {
    "scrolled": true
   },
   "outputs": [],
   "source": [
    "input_text = Input(shape=(400, ))\n",
    "input_title = Input(shape=(20, ))\n",
    "\n",
    "# Text\n",
    "text_embeddings = Embedding(NUM_WORDS_TEXT, output_dim=100,\n",
    "                     embeddings_initializer=Constant(wiki_weights_text),\n",
    "                     input_length=400, trainable=True)(input_text)\n",
    "LSTM_text = LSTM(100, return_sequences=False)(text_embeddings)\n",
    "dense_text = Dense(1, activation=\"relu\")(LSTM_text)\n",
    "\n",
    "# Title\n",
    "title_embeddings = Embedding(NUM_WORDS_TITLE, output_dim=100,\n",
    "                     embeddings_initializer=Constant(wiki_weights_title),\n",
    "                     input_length=20, trainable=True)(input_title)\n",
    "LSTM_title = LSTM(100, return_sequences=False)(title_embeddings)\n",
    "dense_title = Dense(1, activation=\"relu\")(LSTM_title)\n",
    "\n",
    "# Concatenate\n",
    "output_layer = concatenate([dense_text, dense_title])\n",
    "\n",
    "model = Model(inputs=[input_text, input_title], outputs = output_layer)\n",
    "model.compile(loss = losses.LogCosh(), optimizer = \"adam\", metrics=['mae', 'mse'])\n",
    "\n",
    "print(model.summary())\n",
    "callbacks = [EarlyStopping(monitor='val_loss', patience=3, verbose=1, min_delta=0.01, restore_best_weights=True)]\n",
    "\n",
    "story = model.fit([X_tr_int_pad_text, X_tr_int_pad_title], y_train_nlp, epochs=15, verbose=1, batch_size=256, \n",
    "          validation_split=0.2, callbacks=callbacks)"
   ]
  },
  {
   "cell_type": "code",
   "execution_count": 105,
   "metadata": {},
   "outputs": [],
   "source": [
    "preds = pd.DataFrame(model.predict([X_ts_int_pad_text, X_ts_int_pad_title]), columns=[\"text_pred\", \"title_pred\"], index=y_test_nlp.index)\n",
    "preds[\"actual\"] = y_test_nlp"
   ]
  },
  {
   "cell_type": "code",
   "execution_count": 106,
   "metadata": {
    "scrolled": false
   },
   "outputs": [
    {
     "name": "stdout",
     "output_type": "stream",
     "text": [
      "Text MSE: 4093792.4950327245\n",
      "Text MAE: 163.79626421171338\n",
      "\n",
      "Title MSE: 4099533.340538796\n",
      "Title MAE: 169.8877005444595\n",
      "\n"
     ]
    }
   ],
   "source": [
    "print(f\"Text MSE: {mean_squared_error(preds.text_pred, preds.actual)}\")\n",
    "print(f\"Text MAE: {mean_absolute_error(preds.text_pred, preds.actual)}\\n\") \n",
    "print(f\"Title MSE: {mean_squared_error(preds.title_pred, preds.actual)}\")\n",
    "print(f\"Title MAE: {mean_absolute_error(preds.title_pred, preds.actual)}\\n\")"
   ]
  },
  {
   "cell_type": "markdown",
   "metadata": {},
   "source": [
    "Using LSTMs instead of GRUs and fine-tuneable pre-trained embeddings does already produce above-benchmark performance. Especially notable is that this model starts to overfit much later than our benchmark, even though we did not use any regularization. However, from the results so far, it is apparent that the text features either do not hold much predictive power, or they cannot be harnessed well by our modeling approach."
   ]
  },
  {
   "cell_type": "markdown",
   "metadata": {},
   "source": [
    "#### 5.3.2 Bidirectional LSTM"
   ]
  },
  {
   "cell_type": "markdown",
   "metadata": {},
   "source": [
    "Since we are dealing with predefined sequences (unlike stocks for example), we can consider using a bidirectional LSTM architecture to get a more accurate prediction."
   ]
  },
  {
   "cell_type": "code",
   "execution_count": null,
   "metadata": {
    "scrolled": true
   },
   "outputs": [],
   "source": [
    "input_text = Input(shape=(400, ))\n",
    "input_title = Input(shape=(20, ))\n",
    "\n",
    "# Text\n",
    "text_embeddings = Embedding(NUM_WORDS_TEXT, output_dim=100,\n",
    "                     embeddings_initializer=Constant(wiki_weights_text),\n",
    "                     input_length=400, trainable=True)(input_text)\n",
    "LSTM_text = Bidirectional(LSTM(100, return_sequences=False), merge_mode=\"concat\")(text_embeddings)\n",
    "dense_text = Dense(1, activation=\"relu\")(LSTM_text)\n",
    "\n",
    "# Title\n",
    "title_embeddings = Embedding(NUM_WORDS_TITLE, output_dim=100,\n",
    "                     embeddings_initializer=Constant(wiki_weights_title),\n",
    "                     input_length=20, trainable=True)(input_title)\n",
    "LSTM_title = Bidirectional(LSTM(100, return_sequences=False), merge_mode=\"concat\")(title_embeddings)\n",
    "dense_title = Dense(1, activation=\"relu\")(LSTM_title)\n",
    "\n",
    "# Concatenate\n",
    "output_layer = concatenate([dense_text, dense_title])\n",
    "\n",
    "model = Model(inputs=[input_text, input_title], outputs = output_layer)\n",
    "model.compile(loss = losses.LogCosh(), optimizer = \"adam\", metrics=['mae', 'mse'])\n",
    "\n",
    "print(model.summary())\n",
    "callbacks = [EarlyStopping(monitor='val_loss', patience=3, verbose=1, min_delta=0.01, restore_best_weights=True)]\n",
    "\n",
    "story = model.fit([X_tr_int_pad_text, X_tr_int_pad_title], y_train_nlp, epochs=10, verbose=1, batch_size=256, \n",
    "          validation_split=0.2, callbacks=callbacks)"
   ]
  },
  {
   "cell_type": "code",
   "execution_count": 39,
   "metadata": {},
   "outputs": [],
   "source": [
    "preds = pd.DataFrame(model.predict([X_ts_int_pad_text, X_ts_int_pad_title]), columns=[\"text_pred\", \"title_pred\"], index=y_test_nlp.index)\n",
    "preds[\"actual\"] = y_test_nlp"
   ]
  },
  {
   "cell_type": "code",
   "execution_count": 40,
   "metadata": {
    "scrolled": false
   },
   "outputs": [
    {
     "name": "stdout",
     "output_type": "stream",
     "text": [
      "Text MSE: 4102799.3771413146\n",
      "Text MAE: 165.08932957284455\n",
      "\n",
      "Title MSE: 4105366.3325889613\n",
      "Title MAE: 168.4695250574078\n",
      "\n"
     ]
    }
   ],
   "source": [
    "print(f\"Text MSE: {mean_squared_error(preds.text_pred, preds.actual)}\")\n",
    "print(f\"Text MAE: {mean_absolute_error(preds.text_pred, preds.actual)}\\n\") \n",
    "print(f\"Title MSE: {mean_squared_error(preds.title_pred, preds.actual)}\")\n",
    "print(f\"Title MAE: {mean_absolute_error(preds.title_pred, preds.actual)}\\n\")"
   ]
  },
  {
   "cell_type": "markdown",
   "metadata": {},
   "source": [
    "To our surprise, the bidirectional LSTM actually performs slightly worse than the unidirectional one, all the while taking considerably longer to train."
   ]
  },
  {
   "cell_type": "markdown",
   "metadata": {},
   "source": [
    "#### 5.3.3 Deep LSTM\n",
    "\n",
    "Feeding the sequential LSTM output into another LSTM can improve performance in the same way as adding additional hidden layers to a vanilla Neural Network. We also expect this approch to take much longer to train, but it might be worth it if the performance turns out to be vastly superior."
   ]
  },
  {
   "cell_type": "code",
   "execution_count": 42,
   "metadata": {
    "scrolled": true
   },
   "outputs": [
    {
     "name": "stdout",
     "output_type": "stream",
     "text": [
      "Model: \"model_10\"\n",
      "__________________________________________________________________________________________________\n",
      "Layer (type)                    Output Shape         Param #     Connected to                     \n",
      "==================================================================================================\n",
      "input_21 (InputLayer)           (None, 400)          0                                            \n",
      "__________________________________________________________________________________________________\n",
      "input_22 (InputLayer)           (None, 20)           0                                            \n",
      "__________________________________________________________________________________________________\n",
      "embedding_21 (Embedding)        (None, 400, 100)     18425900    input_21[0][0]                   \n",
      "__________________________________________________________________________________________________\n",
      "embedding_22 (Embedding)        (None, 20, 100)      1983000     input_22[0][0]                   \n",
      "__________________________________________________________________________________________________\n",
      "lstm_15 (LSTM)                  (None, 400, 100)     80400       embedding_21[0][0]               \n",
      "__________________________________________________________________________________________________\n",
      "lstm_17 (LSTM)                  (None, 20, 100)      80400       embedding_22[0][0]               \n",
      "__________________________________________________________________________________________________\n",
      "lstm_16 (LSTM)                  (None, 50)           30200       lstm_15[0][0]                    \n",
      "__________________________________________________________________________________________________\n",
      "lstm_18 (LSTM)                  (None, 50)           30200       lstm_17[0][0]                    \n",
      "__________________________________________________________________________________________________\n",
      "dense_22 (Dense)                (None, 1)            51          lstm_16[0][0]                    \n",
      "__________________________________________________________________________________________________\n",
      "dense_23 (Dense)                (None, 1)            51          lstm_18[0][0]                    \n",
      "__________________________________________________________________________________________________\n",
      "concatenate_11 (Concatenate)    (None, 2)            0           dense_22[0][0]                   \n",
      "                                                                 dense_23[0][0]                   \n",
      "==================================================================================================\n",
      "Total params: 20,630,202\n",
      "Trainable params: 20,630,202\n",
      "Non-trainable params: 0\n",
      "__________________________________________________________________________________________________\n",
      "None\n",
      "Train on 42287 samples, validate on 10572 samples\n",
      "Epoch 1/10\n",
      "42287/42287 [==============================] - 334s 8ms/step - loss: 178.8763 - mae: 179.5123 - mse: 4177510.5000 - val_loss: 149.2868 - val_mae: 149.8795 - val_mse: 800867.5000\n",
      "Epoch 2/10\n",
      "42287/42287 [==============================] - 333s 8ms/step - loss: 178.2811 - mae: 178.8703 - mse: 4176101.7500 - val_loss: 148.9996 - val_mae: 149.5950 - val_mse: 799730.2500\n",
      "Epoch 3/10\n",
      "42287/42287 [==============================] - 331s 8ms/step - loss: 177.7687 - mae: 178.3511 - mse: 4175085.7500 - val_loss: 148.8512 - val_mae: 149.4289 - val_mse: 799400.7500\n",
      "Epoch 4/10\n",
      "42287/42287 [==============================] - 302s 7ms/step - loss: 177.1793 - mae: 177.7571 - mse: 4174118.2500 - val_loss: 148.8866 - val_mae: 149.4684 - val_mse: 798438.2500\n",
      "Epoch 5/10\n",
      "42287/42287 [==============================] - 329s 8ms/step - loss: 176.3560 - mae: 176.9484 - mse: 4173419.7500 - val_loss: 148.4370 - val_mae: 149.0954 - val_mse: 797289.3125\n",
      "Epoch 6/10\n",
      "42287/42287 [==============================] - 335s 8ms/step - loss: 174.8194 - mae: 175.4516 - mse: 4171100.5000 - val_loss: 148.0478 - val_mae: 148.6853 - val_mse: 795550.9375\n",
      "Epoch 7/10\n",
      "42287/42287 [==============================] - 332s 8ms/step - loss: 173.3168 - mae: 173.9383 - mse: 4168935.7500 - val_loss: 147.6627 - val_mae: 148.2916 - val_mse: 795346.5000\n",
      "Epoch 8/10\n",
      "42287/42287 [==============================] - 339s 8ms/step - loss: 171.8539 - mae: 172.4655 - mse: 4166935.7500 - val_loss: 147.2699 - val_mae: 147.9007 - val_mse: 793570.0625\n",
      "Epoch 9/10\n",
      "42287/42287 [==============================] - 344s 8ms/step - loss: 170.3376 - mae: 170.9374 - mse: 4164942.7500 - val_loss: 147.4643 - val_mae: 148.0801 - val_mse: 793286.8750\n",
      "Epoch 10/10\n",
      "42287/42287 [==============================] - 335s 8ms/step - loss: 168.8722 - mae: 169.4618 - mse: 4163037.2500 - val_loss: 147.4474 - val_mae: 148.0617 - val_mse: 791501.5000\n"
     ]
    }
   ],
   "source": [
    "input_text = Input(shape=(400, ))\n",
    "input_title = Input(shape=(20, ))\n",
    "\n",
    "# Text\n",
    "text_embeddings = Embedding(NUM_WORDS_TEXT, output_dim=100,\n",
    "                     embeddings_initializer=Constant(wiki_weights_text),\n",
    "                     input_length=400, trainable=True)(input_text)\n",
    "LSTM_text_1 = LSTM(100, return_sequences=True)(text_embeddings)\n",
    "LSTM_text_2 = LSTM(50, return_sequences=False)(LSTM_text_1)\n",
    "dense_text = Dense(1, activation=\"relu\")(LSTM_text_2)\n",
    "\n",
    "# Title\n",
    "title_embeddings = Embedding(NUM_WORDS_TITLE, output_dim=100,\n",
    "                     embeddings_initializer=Constant(wiki_weights_title),\n",
    "                     input_length=20, trainable=True)(input_title)\n",
    "LSTM_title_1 = LSTM(100, return_sequences=True)(title_embeddings)\n",
    "LSTM_title_2 = LSTM(50, return_sequences=False)(LSTM_title_1)\n",
    "dense_title = Dense(1, activation=\"relu\")(LSTM_title_2)\n",
    "\n",
    "# Concatenate\n",
    "output_layer = concatenate([dense_text, dense_title])\n",
    "\n",
    "model = Model(inputs=[input_text, input_title], outputs = output_layer)\n",
    "model.compile(loss = losses.LogCosh(), optimizer = \"adam\", metrics=['mae', 'mse'])\n",
    "\n",
    "print(model.summary())\n",
    "callbacks = [EarlyStopping(monitor='val_loss', patience=3, verbose=1, min_delta=0.01, restore_best_weights=True)]\n",
    "\n",
    "story = model.fit([X_tr_int_pad_text, X_tr_int_pad_title], y_train_nlp, epochs=10, verbose=1, batch_size=256, \n",
    "          validation_split=0.2, callbacks=callbacks)"
   ]
  },
  {
   "cell_type": "code",
   "execution_count": 43,
   "metadata": {},
   "outputs": [],
   "source": [
    "preds = pd.DataFrame(model.predict([X_ts_int_pad_text, X_ts_int_pad_title]), columns=[\"text_pred\", \"title_pred\"], index=y_test_nlp.index)\n",
    "preds[\"actual\"] = y_test_nlp"
   ]
  },
  {
   "cell_type": "code",
   "execution_count": 44,
   "metadata": {
    "scrolled": false
   },
   "outputs": [
    {
     "name": "stdout",
     "output_type": "stream",
     "text": [
      "Text MSE: 4101094.8438519356\n",
      "Text MAE: 166.03213977598577\n",
      "\n",
      "Title MSE: 4102381.8221587776\n",
      "Title MAE: 170.23820139897893\n",
      "\n"
     ]
    }
   ],
   "source": [
    "print(f\"Text MSE: {mean_squared_error(preds.text_pred, preds.actual)}\")\n",
    "print(f\"Text MAE: {mean_absolute_error(preds.text_pred, preds.actual)}\\n\") \n",
    "print(f\"Title MSE: {mean_squared_error(preds.title_pred, preds.actual)}\")\n",
    "print(f\"Title MAE: {mean_absolute_error(preds.title_pred, preds.actual)}\\n\")"
   ]
  },
  {
   "cell_type": "markdown",
   "metadata": {},
   "source": [
    "The validation loss in this case did start to improve overproportionally towards the end, but the small potential improvement over a single LSTM layer does not justify the long training time for our application.\n",
    "\n",
    "---\n",
    "\n",
    "Concluding this small experiment, we use a normal LSTM cell with 100 hidden units for training on our text data."
   ]
  },
  {
   "cell_type": "markdown",
   "metadata": {},
   "source": [
    "### 5.4 Full Model Architecture\n",
    "\n",
    "We now need to make a decision on how to bring text and non-text predictions together. We could simply plug the non-text features into our existing model and train everything at once, but we suspect that the NLP and non-NLP models take different numbers of epochs until overfitting occurs.\n",
    "\n",
    "In order to circumvent this issue, we first tried to employ a stacking architecture, where we separately trained NLP and non-NLP models, and plugged them into a second level model for a final prediction. To our surprise, this model performed very poorly and was promptly scrapped. To not unnecessarily bloat the notebook, we are not including it here. A point to note, however, is the long time such a model needs to be validated without bias. A cross-validation-like training procedure is necessary to acquire predictions for the whole training set without having to make predictions on training data. For this additional reason, we decided to not pursue the architecture further.\n",
    "\n",
    "Instead, we went back to the single composite model. Our suspicion that the NLP models overfit much sooner than the non-NLP ones was true, but - as we soon found out - only due to the trainable embeddings. In fact, it serves almost like a \"cheat sheet\" of sorts and it could even be possible to attain almost perfect training predictions with long enough training this way.\\\n",
    "Therefore, our final decision is to employ a single model for text and non-text features, with untrainable embeddings.\n",
    "\n",
    "An additional benefit this provides over a stacking architecture is that the backwards propagated gradients of the non-text data actually affect the training of our LSTMs and vice versa.\n",
    "\n",
    "Our architecture follows the following order:\n",
    "1. Train LSTMs on text and have them put out a single linear (not ReLU) value. The reason for this is that their outputs are now not final and truncating them would lose information\n",
    "2. Concatenate these values with the non-text data\n",
    "3. Train a deep neural network on the concatenated features\n",
    "\n",
    "The architecture of the dense layers after the concatenation follows a bottleneck fashion, which is an often-used heuristic for building neural networks. The amounts of neurons in each layer was somewhat determined in a trial-and-error fashion where we noticed that a high amount of neurons boosted performance considerably."
   ]
  },
  {
   "cell_type": "code",
   "execution_count": 451,
   "metadata": {},
   "outputs": [
    {
     "name": "stdout",
     "output_type": "stream",
     "text": [
      "Model: \"model_55\"\n",
      "__________________________________________________________________________________________________\n",
      "Layer (type)                    Output Shape         Param #     Connected to                     \n",
      "==================================================================================================\n",
      "input_117 (InputLayer)          (None, 400)          0                                            \n",
      "__________________________________________________________________________________________________\n",
      "input_118 (InputLayer)          (None, 20)           0                                            \n",
      "__________________________________________________________________________________________________\n",
      "embedding_97 (Embedding)        (None, 400, 100)     18425900    input_117[0][0]                  \n",
      "__________________________________________________________________________________________________\n",
      "embedding_98 (Embedding)        (None, 20, 100)      1983000     input_118[0][0]                  \n",
      "__________________________________________________________________________________________________\n",
      "lstm_87 (LSTM)                  (None, 100)          80400       embedding_97[0][0]               \n",
      "__________________________________________________________________________________________________\n",
      "lstm_88 (LSTM)                  (None, 100)          80400       embedding_98[0][0]               \n",
      "__________________________________________________________________________________________________\n",
      "dense_179 (Dense)               (None, 1)            101         lstm_87[0][0]                    \n",
      "__________________________________________________________________________________________________\n",
      "dense_180 (Dense)               (None, 1)            101         lstm_88[0][0]                    \n",
      "__________________________________________________________________________________________________\n",
      "input_119 (InputLayer)          (None, 24)           0                                            \n",
      "__________________________________________________________________________________________________\n",
      "concatenate_52 (Concatenate)    (None, 26)           0           dense_179[0][0]                  \n",
      "                                                                 dense_180[0][0]                  \n",
      "                                                                 input_119[0][0]                  \n",
      "__________________________________________________________________________________________________\n",
      "dense_181 (Dense)               (None, 1024)         27648       concatenate_52[0][0]             \n",
      "__________________________________________________________________________________________________\n",
      "dense_182 (Dense)               (None, 512)          524800      dense_181[0][0]                  \n",
      "__________________________________________________________________________________________________\n",
      "dense_183 (Dense)               (None, 256)          131328      dense_182[0][0]                  \n",
      "__________________________________________________________________________________________________\n",
      "dense_184 (Dense)               (None, 1)            257         dense_183[0][0]                  \n",
      "==================================================================================================\n",
      "Total params: 21,253,935\n",
      "Trainable params: 845,035\n",
      "Non-trainable params: 20,408,900\n",
      "__________________________________________________________________________________________________\n",
      "None\n",
      "Train on 42287 samples, validate on 10572 samples\n",
      "Epoch 1/30\n",
      "42287/42287 [==============================] - 133s 3ms/step - loss: 152.5677 - mae: 153.2349 - mse: 7063109.0000 - val_loss: 119.0712 - val_mae: 119.7551 - val_mse: 484213.4062\n",
      "Epoch 2/30\n",
      "42287/42287 [==============================] - 133s 3ms/step - loss: 135.2782 - mae: 135.9286 - mse: 5472264.5000 - val_loss: 114.5019 - val_mae: 115.1684 - val_mse: 454295.4062\n",
      "Epoch 3/30\n",
      "42287/42287 [==============================] - 133s 3ms/step - loss: 134.0998 - mae: 134.7372 - mse: 5180598.0000 - val_loss: 112.3561 - val_mae: 112.9851 - val_mse: 433889.0938\n",
      "Epoch 4/30\n",
      "42287/42287 [==============================] - 132s 3ms/step - loss: 131.9323 - mae: 132.5653 - mse: 4660215.5000 - val_loss: 111.7640 - val_mae: 112.4440 - val_mse: 439754.3438\n",
      "Epoch 5/30\n",
      "42287/42287 [==============================] - 132s 3ms/step - loss: 128.2765 - mae: 128.9095 - mse: 3810023.2500 - val_loss: 114.1392 - val_mae: 114.8059 - val_mse: 542447.1875\n",
      "Epoch 6/30\n",
      "42287/42287 [==============================] - 132s 3ms/step - loss: 128.3661 - mae: 129.0056 - mse: 4854803.0000 - val_loss: 109.4514 - val_mae: 110.0416 - val_mse: 456613.2812\n",
      "Epoch 7/30\n",
      "42287/42287 [==============================] - 132s 3ms/step - loss: 124.8804 - mae: 125.5144 - mse: 5974104.0000 - val_loss: 109.5569 - val_mae: 110.1630 - val_mse: 429272.0000\n",
      "Epoch 8/30\n",
      "42287/42287 [==============================] - 133s 3ms/step - loss: 122.5441 - mae: 123.1748 - mse: 4882839.0000 - val_loss: 108.3370 - val_mae: 108.9180 - val_mse: 416709.2188\n",
      "Epoch 9/30\n",
      "42287/42287 [==============================] - 131s 3ms/step - loss: 122.0345 - mae: 122.6704 - mse: 3046401.2500 - val_loss: 109.7697 - val_mae: 110.4097 - val_mse: 444735.7812\n",
      "Epoch 10/30\n",
      "42287/42287 [==============================] - 131s 3ms/step - loss: 118.3709 - mae: 119.0085 - mse: 4616129.5000 - val_loss: 113.1427 - val_mae: 113.7743 - val_mse: 408630.3438\n",
      "Epoch 11/30\n",
      "42287/42287 [==============================] - 132s 3ms/step - loss: 123.6826 - mae: 124.3288 - mse: 3285033.2500 - val_loss: 108.7291 - val_mae: 109.3947 - val_mse: 458811.6250\n",
      "Restoring model weights from the end of the best epoch\n",
      "Epoch 00011: early stopping\n"
     ]
    }
   ],
   "source": [
    "input_text = Input(shape=(400, ))\n",
    "input_title = Input(shape=(20, ))\n",
    "input_nontext = Input(shape=(25, ))\n",
    "\n",
    "# Text\n",
    "text_embeddings = Embedding(NUM_WORDS_TEXT, output_dim=100,\n",
    "                     embeddings_initializer=Constant(wiki_weights_text),\n",
    "                     input_length=400, trainable=False)(input_text)\n",
    "LSTM_text = LSTM(100, return_sequences=False)(text_embeddings)\n",
    "dense_text = Dense(1, activation=\"linear\")(LSTM_text)\n",
    "\n",
    "# Title\n",
    "title_embeddings = Embedding(NUM_WORDS_TITLE, output_dim=100,\n",
    "                     embeddings_initializer=Constant(wiki_weights_title),\n",
    "                     input_length=20, trainable=False)(input_title)\n",
    "LSTM_title = LSTM(100, return_sequences=False)(title_embeddings)\n",
    "dense_title = Dense(1, activation=\"linear\")(LSTM_title)\n",
    "\n",
    "# Concatenate\n",
    "concat = concatenate([dense_text, dense_title, input_nontext])\n",
    "dense_full = Dense(1024, activation=\"relu\")(concat)\n",
    "dense_full = Dense(512, activation=\"relu\")(dense_full)\n",
    "dense_full = Dense(256, activation=\"relu\")(dense_full)\n",
    "output_layer = Dense(1, activation=\"linear\")(dense_full)\n",
    "\n",
    "model = Model(inputs=[input_text, input_title, input_nontext], outputs = output_layer)\n",
    "model.compile(loss = losses.LogCosh(), optimizer = \"adam\", metrics=['mae', 'mse'])\n",
    "\n",
    "print(model.summary())\n",
    "callbacks = [EarlyStopping(monitor='val_loss', patience=3, verbose=1, min_delta=0.01, restore_best_weights=True)]\n",
    "\n",
    "story = model.fit([X_tr_int_pad_text, X_tr_int_pad_title, X_train_nlp.drop(columns=[\"text_clean\", \"title_clean\"])], \n",
    "                  y_train_nlp, epochs=30, verbose=1, batch_size=256, validation_split=0.2, callbacks=callbacks)"
   ]
  },
  {
   "cell_type": "code",
   "execution_count": 458,
   "metadata": {
    "scrolled": true
   },
   "outputs": [
    {
     "name": "stdout",
     "output_type": "stream",
     "text": [
      "13215/13215 [==============================] - 19s 1ms/step\n"
     ]
    },
    {
     "data": {
      "text/plain": [
       "[117.1130774034319, 117.6988296508789, 1435102.0]"
      ]
     },
     "execution_count": 458,
     "metadata": {},
     "output_type": "execute_result"
    }
   ],
   "source": [
    "model.evaluate([X_ts_int_pad_text, X_ts_int_pad_title, X_test_nlp.drop(columns=[\"text_clean\", \"title_clean\"])], y_test_nlp)"
   ]
  },
  {
   "cell_type": "markdown",
   "metadata": {},
   "source": [
    "The test MAE is considerably better than all of the benchmark models. The MSE is pretty high but this is expected and actually only due to a single article:"
   ]
  },
  {
   "cell_type": "code",
   "execution_count": 465,
   "metadata": {},
   "outputs": [],
   "source": [
    "preds = pd.DataFrame(model.predict([X_ts_int_pad_text, X_ts_int_pad_title, X_test_nlp.drop(columns=[\"text_clean\", \"title_clean\"])]), columns=[\"pred\"], index=X_test_nlp.index)\n",
    "preds[\"actual\"] = y_test_nlp"
   ]
  },
  {
   "cell_type": "code",
   "execution_count": 493,
   "metadata": {},
   "outputs": [
    {
     "data": {
      "text/plain": [
       "537943.7202919119"
      ]
     },
     "execution_count": 493,
     "metadata": {},
     "output_type": "execute_result"
    }
   ],
   "source": [
    "mean_squared_error(preds[preds.actual < 200000].pred, preds[preds.actual < 200000].actual)"
   ]
  },
  {
   "cell_type": "markdown",
   "metadata": {},
   "source": [
    "---\n",
    "## 6. Application to Test Set\n",
    "\n",
    "We now train our full model on the entire training data again. Therefore we first need to re-initialize our tokenizers so they take into account the whole set of words."
   ]
  },
  {
   "cell_type": "code",
   "execution_count": 486,
   "metadata": {},
   "outputs": [
    {
     "name": "stdout",
     "output_type": "stream",
     "text": [
      "The longest article of the training set has 12810 words.\n",
      "Created embedding matrix of shape (209790, 100)\n",
      "Encountered 81771 out-of-vocabulary words.\n",
      "The longest title of the training set has 15 words.\n",
      "Created embedding matrix of shape (22198, 100)\n",
      "Encountered 3626 out-of-vocabulary words.\n"
     ]
    }
   ],
   "source": [
    "X = train[[\"text_clean\", \"title_clean\", \"imageCount\", \"readingTime\", \"titleLength\", \"Responses\", \"month\", \"weekday\", \"readingEase\"]].copy()\n",
    "X = pd.get_dummies(X, columns=[\"month\", \"weekday\"])\n",
    "y = train['totalClapCount'].copy()\n",
    "\n",
    "tokenizer_text = Tokenizer(oov_token=1, filters='!\"#$%&()*+,-.:;<=>?@[\\\\]^`{|}~\\t\\n', lower=False)\n",
    "tokenizer_text.fit_on_texts(X.text_clean)\n",
    "NUM_WORDS_TEXT = len(tokenizer_text.word_index) + 1\n",
    "\n",
    "X_tr_int_text = tokenizer_text.texts_to_sequences(X.text_clean)\n",
    "max_article_length = max([len(article) for article in X_tr_int_text])\n",
    "print('The longest article of the training set has {} words.'.format(max_article_length))\n",
    "\n",
    "# Upper bound of the article length for padding\n",
    "MAX_TEXT_LENGTH = 400\n",
    "X_tr_int_pad_text = pad_sequences(X_tr_int_text, MAX_TEXT_LENGTH)\n",
    "\n",
    "wiki_weights_text, _ = get_embedding_matrix(tokenizer_text, wiki2vec, NUM_WORDS_TEXT)\n",
    "\n",
    "tokenizer_title = Tokenizer(oov_token=1, filters='!\"#$%&()*+,-.:;<=>?@[\\\\]^`{|}~\\t\\n', lower=False)\n",
    "tokenizer_title.fit_on_texts(X.title_clean)\n",
    "NUM_WORDS_TITLE = len(tokenizer_title.word_index) + 1\n",
    "\n",
    "X_tr_int_title = tokenizer_title.texts_to_sequences(X.title_clean)\n",
    "max_article_length = max([len(article) for article in X_tr_int_title])\n",
    "print('The longest title of the training set has {} words.'.format(max_article_length))\n",
    "\n",
    "# Upper bound of the article length for padding\n",
    "MAX_TITLE_LENGTH = 20\n",
    "X_tr_int_pad_title = pad_sequences(X_tr_int_title, MAX_TITLE_LENGTH)\n",
    "\n",
    "wiki_weights_title, _ = get_embedding_matrix(tokenizer_title, wiki2vec, NUM_WORDS_TITLE)"
   ]
  },
  {
   "cell_type": "markdown",
   "metadata": {},
   "source": [
    "Now we train the model on this, with the optimal epoch value from section 5.4."
   ]
  },
  {
   "cell_type": "code",
   "execution_count": 489,
   "metadata": {},
   "outputs": [
    {
     "name": "stdout",
     "output_type": "stream",
     "text": [
      "Model: \"model_65\"\n",
      "__________________________________________________________________________________________________\n",
      "Layer (type)                    Output Shape         Param #     Connected to                     \n",
      "==================================================================================================\n",
      "input_147 (InputLayer)          (None, 400)          0                                            \n",
      "__________________________________________________________________________________________________\n",
      "input_148 (InputLayer)          (None, 20)           0                                            \n",
      "__________________________________________________________________________________________________\n",
      "embedding_117 (Embedding)       (None, 400, 100)     20979000    input_147[0][0]                  \n",
      "__________________________________________________________________________________________________\n",
      "embedding_118 (Embedding)       (None, 20, 100)      2219800     input_148[0][0]                  \n",
      "__________________________________________________________________________________________________\n",
      "lstm_107 (LSTM)                 (None, 100)          80400       embedding_117[0][0]              \n",
      "__________________________________________________________________________________________________\n",
      "lstm_108 (LSTM)                 (None, 100)          80400       embedding_118[0][0]              \n",
      "__________________________________________________________________________________________________\n",
      "dense_237 (Dense)               (None, 1)            101         lstm_107[0][0]                   \n",
      "__________________________________________________________________________________________________\n",
      "dense_238 (Dense)               (None, 1)            101         lstm_108[0][0]                   \n",
      "__________________________________________________________________________________________________\n",
      "input_149 (InputLayer)          (None, 24)           0                                            \n",
      "__________________________________________________________________________________________________\n",
      "concatenate_65 (Concatenate)    (None, 26)           0           dense_237[0][0]                  \n",
      "                                                                 dense_238[0][0]                  \n",
      "                                                                 input_149[0][0]                  \n",
      "__________________________________________________________________________________________________\n",
      "dense_239 (Dense)               (None, 1024)         27648       concatenate_65[0][0]             \n",
      "__________________________________________________________________________________________________\n",
      "dense_240 (Dense)               (None, 512)          524800      dense_239[0][0]                  \n",
      "__________________________________________________________________________________________________\n",
      "dense_241 (Dense)               (None, 256)          131328      dense_240[0][0]                  \n",
      "__________________________________________________________________________________________________\n",
      "dense_242 (Dense)               (None, 1)            257         dense_241[0][0]                  \n",
      "==================================================================================================\n",
      "Total params: 24,043,835\n",
      "Trainable params: 845,035\n",
      "Non-trainable params: 23,198,800\n",
      "__________________________________________________________________________________________________\n",
      "None\n",
      "Epoch 1/8\n",
      "66074/66074 [==============================] - 205s 3ms/step - loss: 137.7792 - mae: 138.4465 - mse: 3398434.5000\n",
      "Epoch 2/8\n",
      "66074/66074 [==============================] - 202s 3ms/step - loss: 128.6227 - mae: 129.2642 - mse: 3860406.7500\n",
      "Epoch 3/8\n",
      "66074/66074 [==============================] - 201s 3ms/step - loss: 126.7992 - mae: 127.4389 - mse: 2832224.7500\n",
      "Epoch 4/8\n",
      "66074/66074 [==============================] - 202s 3ms/step - loss: 125.1091 - mae: 125.7486 - mse: 2865814.2500\n",
      "Epoch 5/8\n",
      "66074/66074 [==============================] - 202s 3ms/step - loss: 125.6923 - mae: 126.3276 - mse: 3295067.7500\n",
      "Epoch 6/8\n",
      "66074/66074 [==============================] - 202s 3ms/step - loss: 122.5654 - mae: 123.2012 - mse: 3611867.5000\n",
      "Epoch 7/8\n",
      "66074/66074 [==============================] - 202s 3ms/step - loss: 121.4930 - mae: 122.1274 - mse: 3080625.5000\n",
      "Epoch 8/8\n",
      "66074/66074 [==============================] - 201s 3ms/step - loss: 118.8170 - mae: 119.4484 - mse: 3715334.0000\n"
     ]
    }
   ],
   "source": [
    "input_text = Input(shape=(400, ))\n",
    "input_title = Input(shape=(20, ))\n",
    "input_nontext = Input(shape=(25, ))\n",
    "\n",
    "# Text\n",
    "text_embeddings = Embedding(NUM_WORDS_TEXT, output_dim=100,\n",
    "                     embeddings_initializer=Constant(wiki_weights_text),\n",
    "                     input_length=400, trainable=False)(input_text)\n",
    "LSTM_text = LSTM(100, return_sequences=False)(text_embeddings)\n",
    "dense_text = Dense(1, activation=\"linear\")(LSTM_text)\n",
    "\n",
    "# Title\n",
    "title_embeddings = Embedding(NUM_WORDS_TITLE, output_dim=100,\n",
    "                     embeddings_initializer=Constant(wiki_weights_title),\n",
    "                     input_length=20, trainable=False)(input_title)\n",
    "LSTM_title = LSTM(100, return_sequences=False)(title_embeddings)\n",
    "dense_title = Dense(1, activation=\"linear\")(LSTM_title)\n",
    "\n",
    "# Concatenate\n",
    "concat = concatenate([dense_text, dense_title, input_nontext])\n",
    "dense_full = Dense(1024, activation=\"relu\")(concat)\n",
    "dense_full = Dense(512, activation=\"relu\")(dense_full)\n",
    "dense_full = Dense(256, activation=\"relu\")(dense_full)\n",
    "output_layer = Dense(1, activation=\"linear\")(dense_full)\n",
    "\n",
    "model = Model(inputs=[input_text, input_title, input_nontext], outputs = output_layer)\n",
    "model.compile(loss = losses.LogCosh(), optimizer = \"adam\", metrics=['mae', 'mse'])\n",
    "\n",
    "print(model.summary())\n",
    "\n",
    "story = model.fit([X_tr_int_pad_text, X_tr_int_pad_title, X.drop(columns=[\"text_clean\", \"title_clean\"])], \n",
    "                  y, epochs=8, verbose=1, batch_size=256)"
   ]
  },
  {
   "cell_type": "markdown",
   "metadata": {},
   "source": [
    "To make predictions on the test set, we need to prepare it too with the tokenizers we just re-initialized:"
   ]
  },
  {
   "cell_type": "code",
   "execution_count": 490,
   "metadata": {},
   "outputs": [],
   "source": [
    "test_int_text = tokenizer_text.texts_to_sequences(test.text_clean)\n",
    "test_int_pad_text = pad_sequences(test_int_text, MAX_TEXT_LENGTH)\n",
    "\n",
    "test_int_title = tokenizer_title.texts_to_sequences(test.title_clean)\n",
    "test_int_pad_title = pad_sequences(test_int_title, MAX_TITLE_LENGTH)\n",
    "\n",
    "test_X = test[[\"imageCount\", \"readingTime\", \"titleLength\", \"Responses\", \"month\", \"weekday\", \"readingEase\"]].copy()\n",
    "test_X = pd.get_dummies(test_X, columns=[\"month\", \"weekday\"])"
   ]
  },
  {
   "cell_type": "code",
   "execution_count": 491,
   "metadata": {},
   "outputs": [
    {
     "data": {
      "text/html": [
       "<div>\n",
       "<style scoped>\n",
       "    .dataframe tbody tr th:only-of-type {\n",
       "        vertical-align: middle;\n",
       "    }\n",
       "\n",
       "    .dataframe tbody tr th {\n",
       "        vertical-align: top;\n",
       "    }\n",
       "\n",
       "    .dataframe thead th {\n",
       "        text-align: right;\n",
       "    }\n",
       "</style>\n",
       "<table border=\"1\" class=\"dataframe\">\n",
       "  <thead>\n",
       "    <tr style=\"text-align: right;\">\n",
       "      <th></th>\n",
       "      <th>Claps</th>\n",
       "    </tr>\n",
       "    <tr>\n",
       "      <th>index</th>\n",
       "      <th></th>\n",
       "    </tr>\n",
       "  </thead>\n",
       "  <tbody>\n",
       "    <tr>\n",
       "      <th>0</th>\n",
       "      <td>73027.156250</td>\n",
       "    </tr>\n",
       "    <tr>\n",
       "      <th>1</th>\n",
       "      <td>20032.468750</td>\n",
       "    </tr>\n",
       "    <tr>\n",
       "      <th>2</th>\n",
       "      <td>18680.517578</td>\n",
       "    </tr>\n",
       "    <tr>\n",
       "      <th>5</th>\n",
       "      <td>10834.714844</td>\n",
       "    </tr>\n",
       "    <tr>\n",
       "      <th>7</th>\n",
       "      <td>800.700500</td>\n",
       "    </tr>\n",
       "    <tr>\n",
       "      <th>...</th>\n",
       "      <td>...</td>\n",
       "    </tr>\n",
       "    <tr>\n",
       "      <th>598</th>\n",
       "      <td>22004.570312</td>\n",
       "    </tr>\n",
       "    <tr>\n",
       "      <th>599</th>\n",
       "      <td>1480.981934</td>\n",
       "    </tr>\n",
       "    <tr>\n",
       "      <th>600</th>\n",
       "      <td>4411.982422</td>\n",
       "    </tr>\n",
       "    <tr>\n",
       "      <th>601</th>\n",
       "      <td>14544.678711</td>\n",
       "    </tr>\n",
       "    <tr>\n",
       "      <th>602</th>\n",
       "      <td>7238.383301</td>\n",
       "    </tr>\n",
       "  </tbody>\n",
       "</table>\n",
       "<p>514 rows × 1 columns</p>\n",
       "</div>"
      ],
      "text/plain": [
       "              Claps\n",
       "index              \n",
       "0      73027.156250\n",
       "1      20032.468750\n",
       "2      18680.517578\n",
       "5      10834.714844\n",
       "7        800.700500\n",
       "...             ...\n",
       "598    22004.570312\n",
       "599     1480.981934\n",
       "600     4411.982422\n",
       "601    14544.678711\n",
       "602     7238.383301\n",
       "\n",
       "[514 rows x 1 columns]"
      ]
     },
     "execution_count": 491,
     "metadata": {},
     "output_type": "execute_result"
    }
   ],
   "source": [
    "final_composite_predictions = pd.DataFrame(model.predict([test_int_pad_text, test_int_pad_title, test_X]), columns=[\"Claps\"], index=test.index)\n",
    "final_composite_predictions"
   ]
  },
  {
   "cell_type": "markdown",
   "metadata": {},
   "source": [
    "Finally, we clip predictions below 0 since clap counts below 0 do not make sense:"
   ]
  },
  {
   "cell_type": "code",
   "execution_count": 495,
   "metadata": {},
   "outputs": [],
   "source": [
    "final_composite_predictions = np.clip(final_composite_predictions, a_min=0, a_max=None)"
   ]
  },
  {
   "cell_type": "markdown",
   "metadata": {},
   "source": [
    "The last step is to create a csv for the submission:"
   ]
  },
  {
   "cell_type": "code",
   "execution_count": 497,
   "metadata": {},
   "outputs": [],
   "source": [
    "final_composite_predictions.to_csv(\"submission.csv\")"
   ]
  },
  {
   "cell_type": "markdown",
   "metadata": {},
   "source": [
    "## 7. Conclusion"
   ]
  },
  {
   "cell_type": "markdown",
   "metadata": {},
   "source": [
    "In this assignment, the focus lay on Natural Language Processing and the data set represented a good example of real world data. Unfortunately, we were either not quite able to harness the predictive power of the text features, or they did not have much. The other features outshone them by a fair amount. Either way, we still believe that NLP had a positive impact on our final result.\n",
    "\n",
    "As future improvements, the data cleaning could be done even more thoroughly, since we are sure that there still exist anomalities in the text features. On the other hand, it would probably never be possible to fully clean this data set.\\\n",
    "Furthermore, a more complex model architecture would not be a bad idea, since there exist already way more advanced structures like transformer networks. However, one always has to take into account the balance between computational complexity and model performance. We believe that this task is a good example for an at-home application of NLP.\n",
    "\n",
    "A lot of knowledge about Recurrent Neural Networks, Machine Learning in general, and also the relevant python libraries was gained in the scope of the task."
   ]
  }
 ],
 "metadata": {
  "kernelspec": {
   "display_name": "Python 3",
   "language": "python",
   "name": "python3"
  },
  "language_info": {
   "codemirror_mode": {
    "name": "ipython",
    "version": 3
   },
   "file_extension": ".py",
   "mimetype": "text/x-python",
   "name": "python",
   "nbconvert_exporter": "python",
   "pygments_lexer": "ipython3",
   "version": "3.9.6"
  },
  "toc": {
   "base_numbering": 1,
   "nav_menu": {},
   "number_sections": true,
   "sideBar": true,
   "skip_h1_title": false,
   "title_cell": "Table of Contents",
   "title_sidebar": "Contents",
   "toc_cell": false,
   "toc_position": {},
   "toc_section_display": true,
   "toc_window_display": false
  },
  "varInspector": {
   "cols": {
    "lenName": 16,
    "lenType": 16,
    "lenVar": 40
   },
   "kernels_config": {
    "python": {
     "delete_cmd_postfix": "",
     "delete_cmd_prefix": "del ",
     "library": "var_list.py",
     "varRefreshCmd": "print(var_dic_list())"
    },
    "r": {
     "delete_cmd_postfix": ") ",
     "delete_cmd_prefix": "rm(",
     "library": "var_list.r",
     "varRefreshCmd": "cat(var_dic_list()) "
    }
   },
   "types_to_exclude": [
    "module",
    "function",
    "builtin_function_or_method",
    "instance",
    "_Feature"
   ],
   "window_display": false
  }
 },
 "nbformat": 4,
 "nbformat_minor": 4
}
